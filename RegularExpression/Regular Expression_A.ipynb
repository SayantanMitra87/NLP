{
 "cells": [
  {
   "cell_type": "markdown",
   "metadata": {},
   "source": [
    "# Master Python Regular Expression"
   ]
  },
  {
   "cell_type": "markdown",
   "metadata": {},
   "source": [
    "## Section 1. Introduction to regular expression\n",
    "### V2. Regular expression-examples"
   ]
  },
  {
   "cell_type": "code",
   "execution_count": 102,
   "metadata": {},
   "outputs": [
    {
     "data": {
      "text/plain": [
       "'A weight is  46kg\\nB weight is  54kg\\nC weight is  60kg\\nD weight is  70kg\\n\\n'"
      ]
     },
     "execution_count": 102,
     "metadata": {},
     "output_type": "execute_result"
    }
   ],
   "source": [
    "#Extract weights without using regular expressions\n",
    "\n",
    "#read the text file having weights\n",
    "fp=open('weights.txt','r')\n",
    "text=fp.read()\n",
    "text"
   ]
  },
  {
   "cell_type": "code",
   "execution_count": 103,
   "metadata": {},
   "outputs": [
    {
     "name": "stdout",
     "output_type": "stream",
     "text": [
      "['46', '54', '60', '70']\n"
     ]
    }
   ],
   "source": [
    "#extract the weights without using regular expressions\n",
    "#lengthy and complex code\n",
    "weights=[]\n",
    "for i in range(len(text)-1):\n",
    "    sub=text[i:i+2]\n",
    "    if sub.isdecimal():\n",
    "        weights.append(sub)\n",
    "\n",
    "#display the weights       \n",
    "print(weights)"
   ]
  },
  {
   "cell_type": "code",
   "execution_count": 104,
   "metadata": {},
   "outputs": [
    {
     "name": "stdout",
     "output_type": "stream",
     "text": [
      "['46', '54', '60', '70']\n"
     ]
    }
   ],
   "source": [
    "#Extract weights using regular expressions\n",
    "#import the module\n",
    "import re\n",
    "\n",
    "#read the text file having weights\n",
    "fp=open('weights.txt','r')\n",
    "text=fp.read()\n",
    "\n",
    "#extract the weights using regular expressions\n",
    "#simple and short code\n",
    "pattern=r'\\d\\d'\n",
    "regex=re.compile(pattern)\n",
    "weights=regex.findall(text)\n",
    "\n",
    "#display the weights\n",
    "print(weights)"
   ]
  },
  {
   "cell_type": "markdown",
   "metadata": {},
   "source": [
    "## Section 2. re Module Basics\n",
    "### V3. reModule Basics"
   ]
  },
  {
   "cell_type": "code",
   "execution_count": 105,
   "metadata": {},
   "outputs": [
    {
     "name": "stdout",
     "output_type": "stream",
     "text": [
      "['7004']\n"
     ]
    }
   ],
   "source": [
    "#program to illustrate the basics of re module\n",
    "\n",
    "#import the re module\n",
    "import re\n",
    "\n",
    "text='Roll Number is 7004'\n",
    "\n",
    "#write the regular expression\n",
    "pattern=r'\\d\\d\\d\\d'\n",
    "\n",
    "#creat the regex object using compile function\n",
    "regex=re.compile(pattern)\n",
    "\n",
    "#call the findall function using regex object\n",
    "number=regex.findall(text)\n",
    "\n",
    "#display the extracted numbers\n",
    "print(number)"
   ]
  },
  {
   "cell_type": "markdown",
   "metadata": {},
   "source": [
    "## Section 3. re Module Functions"
   ]
  },
  {
   "cell_type": "markdown",
   "metadata": {},
   "source": [
    "### V5. `findall()`"
   ]
  },
  {
   "cell_type": "code",
   "execution_count": 106,
   "metadata": {},
   "outputs": [
    {
     "name": "stdout",
     "output_type": "stream",
     "text": [
      "['1001', '1002']\n"
     ]
    }
   ],
   "source": [
    "#program to illustrate the working of findall \n",
    "\n",
    "import re\n",
    "text='Kalyan roll number is 1001. Meghana roll number is 1002'\n",
    "pattern=r'\\d\\d\\d\\d'\n",
    "# \\d represents a digit from 0-9\n",
    "# 4 \\d will represent numbers with 4 digits\n",
    "\n",
    "regex=re.compile(pattern)\n",
    "rollNumbers=regex.findall(text)\n",
    "\n",
    "if rollNumbers:\n",
    "    print(rollNumbers)\n",
    "else:\n",
    "    print('Roll Numbers are not found')"
   ]
  },
  {
   "cell_type": "markdown",
   "metadata": {},
   "source": [
    "### V6. `finditer()`"
   ]
  },
  {
   "cell_type": "code",
   "execution_count": 107,
   "metadata": {},
   "outputs": [
    {
     "name": "stdout",
     "output_type": "stream",
     "text": [
      "<callable_iterator object at 0x113bb4a58>\n"
     ]
    }
   ],
   "source": [
    "#program to illustrate the working of finditer\n",
    "\n",
    "import re\n",
    "text='Kalyan roll number is 1001. Meghana roll number is 1002'\n",
    "pattern=r'\\d\\d\\d\\d'\n",
    "\n",
    "regex=re.compile(pattern)\n",
    "rollNumbers=regex.finditer(text)\n",
    "\n",
    "if rollNumbers:\n",
    "    print(rollNumbers)\n",
    "else:\n",
    "    print('Roll Numbers are not found')\n",
    "# if/else works for .findall() as it returns list of matched substring\n",
    "# does NOT work here as it returns objects for matched substring only"
   ]
  },
  {
   "cell_type": "code",
   "execution_count": 108,
   "metadata": {},
   "outputs": [
    {
     "name": "stdout",
     "output_type": "stream",
     "text": [
      "1001\n",
      "22\n",
      "26\n",
      "(22, 26)\n",
      "\\d\\d\\d\\d\n",
      "Kalyan roll number is 1001. Meghana roll number is 1002\n",
      "1002\n",
      "51\n",
      "55\n",
      "(51, 55)\n",
      "\\d\\d\\d\\d\n",
      "Kalyan roll number is 1001. Meghana roll number is 1002\n"
     ]
    }
   ],
   "source": [
    "# objects of the matched substring\n",
    "if rollNumbers:\n",
    "    for r in rollNumbers:\n",
    "        print(r.group())\n",
    "        # display roll number\n",
    "        print(r.start())\n",
    "        # display starting index\n",
    "        print(r.end())\n",
    "        # display ending index\n",
    "        print(r.span())\n",
    "        # display start and end index\n",
    "        print(r.re.pattern)\n",
    "        # display pattern\n",
    "        print(r.string)\n",
    "        # display the entire string from \n",
    "        # which roll no. are extracted\n",
    "else:\n",
    "    print('No roll numbers found')"
   ]
  },
  {
   "cell_type": "markdown",
   "metadata": {},
   "source": [
    "### V7. `sub()`"
   ]
  },
  {
   "cell_type": "code",
   "execution_count": 109,
   "metadata": {},
   "outputs": [
    {
     "name": "stdout",
     "output_type": "stream",
     "text": [
      "Kalyan roll number is ****. Meghana roll number is ****\n"
     ]
    }
   ],
   "source": [
    "#program to illustrate the working of sub\n",
    "\n",
    "import re\n",
    "\n",
    "text='Kalyan roll number is 1001. Meghana roll number is 1002'\n",
    "pattern=r'\\d\\d\\d\\d'\n",
    "\n",
    "regex=re.compile(pattern)\n",
    "mtext=regex.sub('****',text)\n",
    "# to replace roll no. with ****\n",
    "\n",
    "print(mtext)"
   ]
  },
  {
   "cell_type": "markdown",
   "metadata": {},
   "source": [
    "### V8. `split()`"
   ]
  },
  {
   "cell_type": "code",
   "execution_count": 110,
   "metadata": {},
   "outputs": [
    {
     "name": "stdout",
     "output_type": "stream",
     "text": [
      "['Kalyan', 'is', 'a', 'good', 'boy', 'and', 'he', 'is', 'going', 'to', 'marry', 'Meghana']\n"
     ]
    }
   ],
   "source": [
    "#program to illustrate the working of split\n",
    "import re\n",
    "\n",
    "text='Kalyan is a good boy and he is going to marry Meghana'\n",
    "pattern=r'\\s'\n",
    "# '\\s' means space, so it will split sentence wherever space is  \n",
    "regex=re.compile(pattern)\n",
    "\n",
    "split_text=regex.split(text)\n",
    "print(split_text)"
   ]
  },
  {
   "cell_type": "code",
   "execution_count": 111,
   "metadata": {},
   "outputs": [
    {
     "name": "stdout",
     "output_type": "stream",
     "text": [
      "['K', 'ly', 'n is ', ' good boy ', 'nd he is going to m', 'rry Megh', 'n', '']\n"
     ]
    }
   ],
   "source": [
    "import re\n",
    "\n",
    "text='Kalyan is a good boy and he is going to marry Meghana'\n",
    "pattern=r'a'\n",
    "\n",
    "regex=re.compile(pattern)\n",
    "\n",
    "split_text=regex.split(text)\n",
    "print(split_text)"
   ]
  },
  {
   "cell_type": "markdown",
   "metadata": {},
   "source": [
    "## Section 4. GROUPS"
   ]
  },
  {
   "cell_type": "markdown",
   "metadata": {},
   "source": [
    "### V10. `Numbered groups`"
   ]
  },
  {
   "cell_type": "code",
   "execution_count": 112,
   "metadata": {},
   "outputs": [
    {
     "name": "stdout",
     "output_type": "stream",
     "text": [
      "CS1004\n",
      "CS1004\n",
      "CS\n",
      "1004\n",
      "('CS', '1004')\n"
     ]
    }
   ],
   "source": [
    "#program to illustrate the numbered groups\n",
    "\n",
    "import re \n",
    "text='Kalyan roll number is CS1004'\n",
    "     \n",
    "pattern=r'(CS)(\\d\\d\\d\\d)'\n",
    "regex=re.compile(pattern)\n",
    "\n",
    "mo=regex.search(text)\n",
    "print(mo.group())   #prints CS1004\n",
    "print(mo.group(0))  #prints CS1004\n",
    "print(mo.group(1))  #prints CS\n",
    "print(mo.group(2))  #prints 1004\n",
    "print(mo.groups())  #prints (CS,1004)"
   ]
  },
  {
   "cell_type": "markdown",
   "metadata": {},
   "source": [
    "### V11. `Named groups`"
   ]
  },
  {
   "cell_type": "code",
   "execution_count": 113,
   "metadata": {},
   "outputs": [
    {
     "name": "stdout",
     "output_type": "stream",
     "text": [
      "CS1004\n",
      "CS1004\n",
      "CS\n",
      "1004\n",
      "('CS', '1004')\n"
     ]
    }
   ],
   "source": [
    "#program to illustrate the working of named groups\n",
    "import re\n",
    "\n",
    "text='Kalyan roll number is CS1004'\n",
    "pattern=r'(?P<branch>CS)(?P<roll>\\d\\d\\d\\d)'\n",
    "# branch, roll are name of the groups\n",
    "\n",
    "regex=re.compile(pattern)\n",
    "\n",
    "mo=regex.search(text)\n",
    "print(mo.group())            #prints CS1004\n",
    "print(mo.group(0))           #prints CS1004\n",
    "print(mo.group('branch'))    #prints CS\n",
    "# calling by name of the group\n",
    "print(mo.group('roll'))      #prints 1004\n",
    "print(mo.groups())           #prints (CS,1004)"
   ]
  },
  {
   "cell_type": "markdown",
   "metadata": {},
   "source": [
    "### V12. `Non-Capturing groups`"
   ]
  },
  {
   "cell_type": "code",
   "execution_count": 117,
   "metadata": {},
   "outputs": [
    {
     "name": "stdout",
     "output_type": "stream",
     "text": [
      "['043-22543', '043-22514']\n",
      "[('043', '22543'), ('043', '22514')]\n",
      "['043-22543', '043-22514']\n"
     ]
    }
   ],
   "source": [
    "#program to illustrate the non capturing groups\n",
    "\n",
    "import re\n",
    "text='My  personal number is 043-225431  and my office number is 043-225143'\n",
    "\n",
    "pattern1=r'\\d\\d\\d-\\d\\d\\d\\d\\d'\n",
    "regex=re.compile(pattern1)\n",
    "numbers=regex.findall(text)\n",
    "print(numbers)                        #list of strings\n",
    "\n",
    "pattern2=r'(\\d\\d\\d)-(\\d\\d\\d\\d\\d)'\n",
    "regex=re.compile(pattern2)\n",
    "numbers=regex.findall(text)\n",
    "print(numbers)                         #list of tuples\n",
    "\n",
    "pattern3=r'(?:\\d\\d\\d)-(?:\\d\\d\\d\\d\\d)'\n",
    "regex=re.compile(pattern3)\n",
    "numbers=regex.findall(text)\n",
    "print(numbers)                         #list of strings"
   ]
  },
  {
   "cell_type": "code",
   "execution_count": 119,
   "metadata": {},
   "outputs": [
    {
     "name": "stdout",
     "output_type": "stream",
     "text": [
      "['043-2254', '043-2251']\n"
     ]
    }
   ],
   "source": [
    "import re\n",
    "text='My  personal number is 043-225431  and my office number is 043-225143'\n",
    "\n",
    "pattern1=r'\\d{3}-\\d{4}'\n",
    "regex=re.compile(pattern1)\n",
    "numbers=regex.findall(text)\n",
    "print(numbers)  "
   ]
  },
  {
   "cell_type": "markdown",
   "metadata": {},
   "source": [
    "## Section 5. META-CHARACTERS"
   ]
  },
  {
   "cell_type": "markdown",
   "metadata": {},
   "source": [
    "### V14. `| (PIPE)` - Or"
   ]
  },
  {
   "cell_type": "code",
   "execution_count": 120,
   "metadata": {},
   "outputs": [
    {
     "name": "stdout",
     "output_type": "stream",
     "text": [
      "['06', '12']\n"
     ]
    }
   ],
   "source": [
    "import re\n",
    "\n",
    "text='My lcuky number is 06, and her lucky number is 121'\n",
    "pattern=r'(\\d{2}|\\d{3})'\n",
    "\n",
    "regex=re.compile(pattern)\n",
    "number = regex.findall(text)\n",
    "print(number)\n",
    "# unfortunately it calls first 2 digits of 121 if `\\b` is NOT used"
   ]
  },
  {
   "cell_type": "code",
   "execution_count": 121,
   "metadata": {},
   "outputs": [
    {
     "name": "stdout",
     "output_type": "stream",
     "text": [
      "['06', '121']\n"
     ]
    }
   ],
   "source": [
    "import re\n",
    "\n",
    "text='My lcuky number is 06, and her lucky number is 121'\n",
    "pattern=r'\\b(\\d{2}|\\d{3})\\b'\n",
    "\n",
    "regex=re.compile(pattern)\n",
    "number = regex.findall(text)\n",
    "print(number)"
   ]
  },
  {
   "cell_type": "code",
   "execution_count": 122,
   "metadata": {},
   "outputs": [
    {
     "name": "stdout",
     "output_type": "stream",
     "text": [
      "['c', 'm', 'b']\n"
     ]
    }
   ],
   "source": [
    "# 2nd example\n",
    "#program to illustrate the pipe meta character\n",
    "import re\n",
    "text='words are cat,mat,bat'\n",
    "pattern=r'(c|m|b)at'\n",
    "regex=re.compile(pattern)\n",
    "words=regex.findall(text)\n",
    "print(words)"
   ]
  },
  {
   "cell_type": "markdown",
   "metadata": {},
   "source": [
    "As non-capturing group is not used only content of the group is displayed i.e. c or a or t. That is NOT the intention."
   ]
  },
  {
   "cell_type": "code",
   "execution_count": 123,
   "metadata": {},
   "outputs": [
    {
     "name": "stdout",
     "output_type": "stream",
     "text": [
      "['cat', 'mat', 'bat']\n"
     ]
    }
   ],
   "source": [
    "# 2nd example\n",
    "#program to illustrate the pipe meta character\n",
    "import re\n",
    "text='words are cat,mat,bat'\n",
    "pattern=r'(?:c|m|b)at'\n",
    "regex=re.compile(pattern)\n",
    "words=regex.findall(text)\n",
    "print(words)\n",
    "# Using non-capturing group (?:) solved the issue"
   ]
  },
  {
   "cell_type": "code",
   "execution_count": 124,
   "metadata": {},
   "outputs": [
    {
     "name": "stdout",
     "output_type": "stream",
     "text": [
      "['cat', 'mat', 'bat']\n"
     ]
    }
   ],
   "source": [
    "# 2nd example- another way\n",
    "#program to illustrate the pipe meta character\n",
    "import re\n",
    "text='words are cat,mat,bat'\n",
    "pattern=r'cat|mat|bat'\n",
    "regex=re.compile(pattern)\n",
    "words=regex.findall(text)\n",
    "print(words)"
   ]
  },
  {
   "cell_type": "code",
   "execution_count": 125,
   "metadata": {},
   "outputs": [
    {
     "name": "stdout",
     "output_type": "stream",
     "text": [
      "['cat', 'mat', 'bat']\n"
     ]
    }
   ],
   "source": [
    "# 2nd example- yet another way\n",
    "#program to illustrate the pipe meta character\n",
    "import re\n",
    "text='words are cat,mat,bat'\n",
    "pattern=r'[c|m|b]at'\n",
    "regex=re.compile(pattern)\n",
    "words=regex.findall(text)\n",
    "print(words)"
   ]
  },
  {
   "cell_type": "markdown",
   "metadata": {},
   "source": [
    "### V17. `? (Question mark)` - 0 or 1"
   ]
  },
  {
   "cell_type": "code",
   "execution_count": 126,
   "metadata": {},
   "outputs": [
    {
     "name": "stdout",
     "output_type": "stream",
     "text": [
      "['06', '121']\n"
     ]
    }
   ],
   "source": [
    "#program to illustrate the question mark meta character\n",
    "\n",
    "import re\n",
    "text='My lucky number is 06 and her lucky number is 121'\n",
    "pattern=r'\\d\\d\\d?'\n",
    "# this was done previously by `|`\n",
    "\n",
    "regex=re.compile(pattern)\n",
    "numbers=regex.findall(text)\n",
    "print(numbers)"
   ]
  },
  {
   "cell_type": "code",
   "execution_count": 127,
   "metadata": {},
   "outputs": [
    {
     "name": "stdout",
     "output_type": "stream",
     "text": [
      "['rise', 'risen']\n"
     ]
    }
   ],
   "source": [
    "import re\n",
    "text='Sun will rise and Christ has risen'\n",
    "pattern=r'risen?'\n",
    "\n",
    "regex=re.compile(pattern)\n",
    "numbers=regex.findall(text)\n",
    "print(numbers)"
   ]
  },
  {
   "cell_type": "code",
   "execution_count": 128,
   "metadata": {},
   "outputs": [
    {
     "name": "stdout",
     "output_type": "stream",
     "text": [
      "['-12', '24', '19', '-64']\n"
     ]
    }
   ],
   "source": [
    "import re\n",
    "text='My lucky number is -12,24,19,-64'\n",
    "pattern=r'-?\\d\\d'\n",
    "\n",
    "regex=re.compile(pattern)\n",
    "numbers=regex.findall(text)\n",
    "print(numbers)"
   ]
  },
  {
   "cell_type": "markdown",
   "metadata": {},
   "source": [
    "### V20. `* (Asterisk mark)` - 0 or More"
   ]
  },
  {
   "cell_type": "code",
   "execution_count": 129,
   "metadata": {},
   "outputs": [
    {
     "name": "stdout",
     "output_type": "stream",
     "text": [
      "['abbbc', 'abbc', 'abc', 'ac']\n"
     ]
    }
   ],
   "source": [
    "#program to illustrate the astersik meta character\n",
    "\n",
    "import re\n",
    "\n",
    "text='words are abbbc  abbc abc  ac'\n",
    "pattern=r'ab*c'\n",
    "\n",
    "regex=re.compile(pattern)\n",
    "print(regex.findall(text))"
   ]
  },
  {
   "cell_type": "code",
   "execution_count": 130,
   "metadata": {},
   "outputs": [
    {
     "name": "stdout",
     "output_type": "stream",
     "text": [
      "['c', 'abc', 'ababc', 'abababc']\n"
     ]
    }
   ],
   "source": [
    "import re\n",
    "\n",
    "text='words are c abc ababc abababc'\n",
    "pattern=r'(?:ab)*c'\n",
    "\n",
    "regex=re.compile(pattern)\n",
    "print(regex.findall(text))"
   ]
  },
  {
   "cell_type": "markdown",
   "metadata": {},
   "source": [
    "### V22. `+ (Plus)` - 1 or More"
   ]
  },
  {
   "cell_type": "code",
   "execution_count": 131,
   "metadata": {},
   "outputs": [
    {
     "name": "stdout",
     "output_type": "stream",
     "text": [
      "['abbbc', 'abbc', 'abc']\n"
     ]
    }
   ],
   "source": [
    "#program to illustrate the plus  meta character\n",
    "\n",
    "import re\n",
    "text='abbbc abbc  abc  '\n",
    "\n",
    "pattern=r'ab+c'\n",
    "regex=re.compile(pattern)\n",
    "words=regex.findall(text)\n",
    "print(words)"
   ]
  },
  {
   "cell_type": "code",
   "execution_count": 132,
   "metadata": {},
   "outputs": [
    {
     "name": "stdout",
     "output_type": "stream",
     "text": [
      "['1', '10', '100', '1000']\n"
     ]
    }
   ],
   "source": [
    "import re\n",
    "text='1,10,100,1000'\n",
    "\n",
    "pattern=r'\\d+'\n",
    "regex=re.compile(pattern)\n",
    "words=regex.findall(text)\n",
    "print(words)"
   ]
  },
  {
   "cell_type": "code",
   "execution_count": 133,
   "metadata": {},
   "outputs": [
    {
     "name": "stdout",
     "output_type": "stream",
     "text": [
      "['Kalyan', 'Meghna']\n"
     ]
    }
   ],
   "source": [
    "import re\n",
    "text='names are Kalyan and Meghna'\n",
    "\n",
    "pattern=r'[A-Z][a-z]+'\n",
    "regex=re.compile(pattern)\n",
    "words=regex.findall(text)\n",
    "print(words)"
   ]
  },
  {
   "cell_type": "markdown",
   "metadata": {},
   "source": [
    "### V25. `. (Dot symbol)` - any character except \\n"
   ]
  },
  {
   "cell_type": "code",
   "execution_count": 134,
   "metadata": {},
   "outputs": [
    {
     "name": "stdout",
     "output_type": "stream",
     "text": [
      "['k', 'a', 'l', 'y', 'a', 'n', '1', '2', '3', '4', '1', '4', '5']\n"
     ]
    }
   ],
   "source": [
    "#program to illustrate the dot meta character\n",
    "\n",
    "import re\n",
    "text='kalyan1234\\n145'\n",
    "pattern=r'.'   \n",
    "\n",
    "regex=re.compile(pattern)\n",
    "characters=regex.findall(text)\n",
    "\n",
    "print(characters)"
   ]
  },
  {
   "cell_type": "markdown",
   "metadata": {},
   "source": [
    "### V26. `Metacharacter` example-1"
   ]
  },
  {
   "cell_type": "code",
   "execution_count": 135,
   "metadata": {},
   "outputs": [
    {
     "name": "stdout",
     "output_type": "stream",
     "text": [
      "['+10', '20', '+30', '40']\n"
     ]
    }
   ],
   "source": [
    "#meta character example program\n",
    "\n",
    "import re\n",
    "text='values are +10,20,+30,40'\n",
    "pattern=r'\\+?\\d{2}'\n",
    "regex=re.compile(pattern)\n",
    "numbers=regex.findall(text)\n",
    "print(numbers)"
   ]
  },
  {
   "cell_type": "markdown",
   "metadata": {},
   "source": [
    "`+` is a metacharacter or special character so we can NOT use it directy, so we have to provide a backslash '\\'"
   ]
  },
  {
   "cell_type": "code",
   "execution_count": 136,
   "metadata": {},
   "outputs": [
    {
     "name": "stdout",
     "output_type": "stream",
     "text": [
      "['+10.01', '20.02', '+30.43']\n"
     ]
    }
   ],
   "source": [
    "import re\n",
    "text='values are +10.01,20.02,+30.433'\n",
    "pattern=r'\\+?\\d{2}\\.\\d{2}'\n",
    "regex=re.compile(pattern)\n",
    "numbers=regex.findall(text)\n",
    "print(numbers)"
   ]
  },
  {
   "cell_type": "markdown",
   "metadata": {},
   "source": [
    "## Section 6. Character class\n",
    "### V28. "
   ]
  },
  {
   "cell_type": "markdown",
   "metadata": {},
   "source": [
    "3 types of character class\n",
    "\n",
    "1. Positive character class\n",
    "2. Negative character class\n",
    "3. Shorthand character class"
   ]
  },
  {
   "cell_type": "markdown",
   "metadata": {},
   "source": [
    "## Section 8. Greedy & Non-Greedy Matching\n",
    "### V41. Greedy Matching"
   ]
  },
  {
   "cell_type": "code",
   "execution_count": 149,
   "metadata": {},
   "outputs": [
    {
     "name": "stdout",
     "output_type": "stream",
     "text": [
      "abcabcabcabc\n"
     ]
    }
   ],
   "source": [
    "#program to illustrate greedy matching\n",
    "\n",
    "import re\n",
    "text='The pattern is abcabcabcabc'\n",
    "\n",
    "pattern=r'a[a-z]+c'\n",
    "regex=re.compile(pattern)\n",
    "mo=regex.search(text)\n",
    "\n",
    "print(mo.group())  "
   ]
  },
  {
   "cell_type": "code",
   "execution_count": 150,
   "metadata": {},
   "outputs": [
    {
     "name": "stdout",
     "output_type": "stream",
     "text": [
      "['abcabcabcabc']\n"
     ]
    }
   ],
   "source": [
    "pattern=r'a[a-z]+c'\n",
    "regex=re.compile(pattern)\n",
    "mo2=regex.findall(text)\n",
    "\n",
    "print(mo2)"
   ]
  },
  {
   "cell_type": "markdown",
   "metadata": {},
   "source": [
    "**Greedy matching looks for MAXIMUM possible match**\n",
    "\n",
    "The regular expression r'a[a-z]+c' suggests word will start with a, then 1 or more of any character between a to z and then end with c.\n",
    "\n",
    "The string abcabcabcabc has a pattern of `abc`. This `abc` pattern is recognized by the regular expression. Regular expression can also recognize\n",
    "abc, abcabc, abcabcabc, and abcabcabcabc. But it will recognize the maximum possible match.\n",
    "\n",
    "Regular expression is greedy by nature so they look for maximum possible match while using `+, *, {3,}`"
   ]
  },
  {
   "cell_type": "markdown",
   "metadata": {},
   "source": [
    "### V42. Non-Greedy Matching"
   ]
  },
  {
   "cell_type": "code",
   "execution_count": 151,
   "metadata": {},
   "outputs": [
    {
     "name": "stdout",
     "output_type": "stream",
     "text": [
      "abc\n"
     ]
    }
   ],
   "source": [
    "#program to illustrate  non-greedy matching\n",
    "\n",
    "import re\n",
    "\n",
    "text='The pattern is abcabcabcabc'\n",
    "pattern=r'a[a-z]+?c'\n",
    "\n",
    "regex=re.compile(pattern)\n",
    "mo=regex.search(text)\n",
    "\n",
    "print(mo.group()) "
   ]
  },
  {
   "cell_type": "markdown",
   "metadata": {},
   "source": [
    "**Non-Greedy matching looks for MINIMUM possible match.**\n",
    "\n",
    "The regular expression is r'a[a-z]+?c'. `?` will ensure it will go for NON-Greedy match. Regular expression suggests word will start with a, then 1 or minimum of any character between a to z and then end with c.\n",
    "\n",
    "The string abcabcabcabc has a pattern of abc. This abc pattern is recognized by the regular expression. Regular expression can also recognize abc, abcabc, abcabcabc, and abcabcabcabc. But it will recognize the MINIMUM possible match i.e. abc."
   ]
  },
  {
   "cell_type": "markdown",
   "metadata": {},
   "source": [
    "## Section 9. Back Reference\n",
    "### V44. Numbered Back Reference"
   ]
  },
  {
   "cell_type": "code",
   "execution_count": 154,
   "metadata": {},
   "outputs": [
    {
     "name": "stdout",
     "output_type": "stream",
     "text": [
      "1414\n",
      "2020\n"
     ]
    }
   ],
   "source": [
    "#program to illustrate  numbered back references \n",
    "\n",
    "import re\n",
    "\n",
    "text='The numbers are 1116,1414,4035,2020'\n",
    "pattern=r'(\\d{2})\\1'\n",
    "\n",
    "regex=re.compile(pattern)\n",
    "\n",
    "mo=regex.finditer(text)\n",
    "for i in mo:\n",
    "    print(i.group())\n",
    "\n",
    "# can NOT use .findall(text) here. It will generate 14 and 20\n",
    "# we have to use .finditer(text) & then iterate through them"
   ]
  },
  {
   "cell_type": "markdown",
   "metadata": {},
   "source": [
    "1414 and 2020, there is repetitions of first 2 digits. So first 2 digits could be represented by \\d{2}. We want groups and therefore (\\d{2}). \n",
    "\n",
    "`(\\d{2})\\1`. The repetition of the digits is recognized by back referencing i.e. `\\1`"
   ]
  },
  {
   "cell_type": "code",
   "execution_count": 155,
   "metadata": {},
   "outputs": [
    {
     "name": "stdout",
     "output_type": "stream",
     "text": [
      "Office Land Line number is 043-405117 \n"
     ]
    }
   ],
   "source": [
    "# 2nd program to illustrate  numbered backreferences \n",
    "\n",
    "import re\n",
    "\n",
    "text='Office Land Line number is 043405117 '\n",
    "pattern=r'(\\d{3})(\\d{5})'\n",
    "\n",
    "regex=re.compile(pattern)\n",
    "\n",
    "text=regex.sub(r'\\1-\\2',text)\n",
    "\n",
    "print(text)"
   ]
  },
  {
   "cell_type": "markdown",
   "metadata": {},
   "source": [
    "Here regular expression for 043405117 would be `r'(\\d{3})(\\d{5})'`. First 3 digits will represent area group i.e. 1st group and next 5 will represent landline number i.e. 2nd group.\n",
    "\n",
    "`r'\\1-\\2'` ensures 1st group with 3 digits and 2nd group has 5 digits. And they are separated by a `-`"
   ]
  },
  {
   "cell_type": "markdown",
   "metadata": {},
   "source": [
    "### V46. Named Back Reference"
   ]
  },
  {
   "cell_type": "code",
   "execution_count": 157,
   "metadata": {},
   "outputs": [
    {
     "name": "stdout",
     "output_type": "stream",
     "text": [
      "1414\n",
      "2020\n"
     ]
    }
   ],
   "source": [
    "# 1st program to illustrate  NAMED backreferences \n",
    "\n",
    "import re\n",
    "\n",
    "text='The numbers are 1414,1618,2020,4038'\n",
    "pattern=r'(?P<first>\\d{2})(?P=first)'\n",
    "\n",
    "regex=re.compile(pattern)\n",
    "\n",
    "numbers=regex.finditer(text)\n",
    "\n",
    "for n in numbers:\n",
    "    print(n.group())"
   ]
  },
  {
   "cell_type": "markdown",
   "metadata": {},
   "source": [
    "1414 and 2020, there is repetitions of first 2 digits. So first 2 digits could be represented by \\d{2}. We want groups and therefore (\\d{2}).\n",
    "\n",
    "Now we want to name the group. `?P<first>` is naming the group. where `first` is the name of the group\n",
    "\n",
    "`(?P=first)` ensures next group is also similar to the first group as we are matching 1414 and 2020. Here first 2 digits of each number (1st group) is same as the next 2 number (2nd group). Thus we say next group is same as the 1st group."
   ]
  },
  {
   "cell_type": "code",
   "execution_count": 158,
   "metadata": {},
   "outputs": [
    {
     "name": "stdout",
     "output_type": "stream",
     "text": [
      "Office Land Line number is 043-405117 \n"
     ]
    }
   ],
   "source": [
    "# 2nd program to illustrate  NAMED backreferences \n",
    "\n",
    "import re\n",
    "\n",
    "text='Office Land Line number is 043405117 '\n",
    "pattern=r'(?P<area>\\d{3})(?P<number>\\d{5})'\n",
    "\n",
    "regex=re.compile(pattern)\n",
    "\n",
    "text=regex.sub(r'\\g<area>-\\g<number>',text)\n",
    "\n",
    "print(text)"
   ]
  },
  {
   "cell_type": "markdown",
   "metadata": {},
   "source": [
    "First 3 digits of the number 043405117 would be represented by 1st group `(?P<area>\\d{3})`, where the 1st group is named as `area`. Similarly next 5 digits would be represented by 2nd group `(?P<number>\\d{5})`.\n",
    "\n",
    "Whereas, regular expression of 043-405117 will be `r'\\g<area>-\\g<number>'`. Here first group `area` will represent first 3 digits followed by a `-` and then second group `number` will represent next 5 digits."
   ]
  },
  {
   "cell_type": "markdown",
   "metadata": {},
   "source": [
    "## Section 10. Assertions\n",
    "### V49. Positive Look Ahead Assertions"
   ]
  },
  {
   "cell_type": "code",
   "execution_count": 159,
   "metadata": {},
   "outputs": [
    {
     "name": "stdout",
     "output_type": "stream",
     "text": [
      "['Kalyan', 'Meghana']\n"
     ]
    }
   ],
   "source": [
    "#program to illustrate  positive look ahead assertion\n",
    "\n",
    "import re\n",
    "\n",
    "text='Kalyan_cs,Meghana_cs,John,Jack'\n",
    "pattern=r'(?i)[a-z]+(?=_cs)'\n",
    "\n",
    "regex=re.compile(pattern)\n",
    "\n",
    "names=regex.findall(text)\n",
    "\n",
    "print(names)"
   ]
  },
  {
   "cell_type": "markdown",
   "metadata": {},
   "source": [
    "Here we have to extract names followed by something. Both Kalyan and Meghna are followed by `_cs`. To select name or anything that is followed by something we use `Positive Look Ahead Assertion`\n",
    "\n",
    "`r'(?i)[a-z]+(?=_cs)`: The name contains only alpha characters so by `(?i)` we ensure to neglect case (upper/lower). Then 1 or more of alpha characters. `(?=_cs)` ensures positive look ahead assertion i.e. they will look for names followed by `_cs`."
   ]
  },
  {
   "cell_type": "markdown",
   "metadata": {},
   "source": [
    "### V50. Negative Look Ahead Assertions"
   ]
  },
  {
   "cell_type": "code",
   "execution_count": 162,
   "metadata": {},
   "outputs": [
    {
     "name": "stdout",
     "output_type": "stream",
     "text": [
      "['12', '13']\n"
     ]
    }
   ],
   "source": [
    "#program to illustrate  negative look ahead assertion\n",
    "\n",
    "import re\n",
    "\n",
    "text='values are 12,13,14a,15b'\n",
    "pattern=r'\\d{2}(?![a-z])'\n",
    "\n",
    "regex=re.compile(pattern)\n",
    "\n",
    "values=regex.findall(text)\n",
    "print(values)"
   ]
  },
  {
   "cell_type": "markdown",
   "metadata": {},
   "source": [
    "Here we want to extract the numbers that are NOT followed by any alphabets (exact opposite to the previous case, i.e. Positive Look Ahead Assertion). \n",
    "\n",
    "`r'\\d{2}(?![a-z])'`: `\\d{2}` will recognize 2 digit numbers. And after that we do NOT want it to be followed by any alphabets. We ensure that by Negative Look Ahead Assertions i.e. `(?![a-z])`"
   ]
  },
  {
   "cell_type": "markdown",
   "metadata": {},
   "source": [
    "### V51. Positive Look Behind Assertions"
   ]
  },
  {
   "cell_type": "code",
   "execution_count": 164,
   "metadata": {},
   "outputs": [
    {
     "name": "stdout",
     "output_type": "stream",
     "text": [
      "['1001', '1002', '1003']\n"
     ]
    }
   ],
   "source": [
    "#program to illustrate  positive look behind assertion\n",
    " \n",
    "import re\n",
    "\n",
    "text='Values are CS1001,CS1002,CS1003,1989'\n",
    "pattern='(?<=CS)\\d{4}'\n",
    "\n",
    "regex=re.compile(pattern)\n",
    "\n",
    "values=regex.findall(text)\n",
    "print(values)"
   ]
  },
  {
   "cell_type": "markdown",
   "metadata": {},
   "source": [
    "Here we want to extract numbers which are preceeded by something (`CS` in this case). \n",
    "\n",
    "`(?<=CS)\\d{4}`: Here `\\d{4}` will recognize the 4 digit numbers. Positive look behind assertion ``(?<=CS)` will look for the numbers that are preceeded by `CS`"
   ]
  },
  {
   "cell_type": "markdown",
   "metadata": {},
   "source": [
    "### V52. Negative Look Behind Assertions"
   ]
  },
  {
   "cell_type": "code",
   "execution_count": 165,
   "metadata": {},
   "outputs": [
    {
     "name": "stdout",
     "output_type": "stream",
     "text": [
      "['1989']\n"
     ]
    }
   ],
   "source": [
    "#program to illustrate  negative look behind assertion\n",
    " \n",
    "import re\n",
    "\n",
    "text='Values are CS1001,CS1002,CS1003,1989'\n",
    "pattern='(?<!CS)\\d{4}'\n",
    "\n",
    "regex=re.compile(pattern)\n",
    "values=regex.findall(text)\n",
    "\n",
    "print(values)"
   ]
  },
  {
   "cell_type": "markdown",
   "metadata": {},
   "source": [
    "Here we want to extract numbers which are NOT preceeded by something (`CS` in this case). \n",
    "\n",
    "`(?<!CS)\\d{4}`: Here `\\d{4}` will recognize the 4 digit numbers. Positive look behind assertion `(?<!CS)` will look for the numbers that are NOT preceeded by `CS`. `!` or not equal ensures it recognizes numbers that are NOT preceeded by `CS`."
   ]
  },
  {
   "cell_type": "markdown",
   "metadata": {},
   "source": [
    "## Section 11. Case Study 1- URLs\n",
    "### V55. URLs-Question 1"
   ]
  },
  {
   "cell_type": "markdown",
   "metadata": {},
   "source": [
    "url.txt contains follwoing URLs. And we have to extract urls of pattern:  `www.abcd123.com`\n",
    "\n",
    "www.google.com\n",
    "\n",
    "www.facebook.com\n",
    "\n",
    "https://www.yahoomail.com\n",
    "\n",
    "https://www.microsoft.com\n",
    "\n",
    "https://www.abcd123.in\n",
    "\n",
    "www.amazon.in\n",
    "\n",
    "www.pqrs.in\n",
    "\n",
    "www.xyz.in\n",
    "\n",
    "https://www.flipkart.in\n",
    "\n",
    "https://www.nitt.edu"
   ]
  },
  {
   "cell_type": "code",
   "execution_count": 2,
   "metadata": {},
   "outputs": [
    {
     "name": "stdout",
     "output_type": "stream",
     "text": [
      "www.google.com\n",
      "www.facebook.com\n",
      "www.amazon.in\n",
      "www.pqrs.in\n",
      "www.xyz.in\n"
     ]
    }
   ],
   "source": [
    "#URL Program1\n",
    "\n",
    "import re\n",
    "\n",
    "#read the text file\n",
    "fp=open('url.txt','r')\n",
    "text=fp.read()\n",
    "\n",
    "#write the regex pattern\n",
    "pattern=r'(?<!https://)www\\.[a-z0-9]+\\.[a-z]+'\n",
    "# pattern=r'[^https://]www\\.[a-z0-9]+\\.[a-z]+'\n",
    "\n",
    "#create the regex object\n",
    "regex=re.compile(pattern)\n",
    "\n",
    "#extract the urls\n",
    "urls=regex.findall(text)\n",
    "for u in urls:\n",
    "    print(u)"
   ]
  },
  {
   "cell_type": "markdown",
   "metadata": {},
   "source": [
    "pattern=`r'(?<!https://)www\\.[a-z0-9]+\\.[a-z]+'`\n",
    "\n",
    "`\\.` backslash because `.` is a special character and we want a literal `.` here.\n",
    "\n",
    "`(?<!https://)` because we do NOT want `https://` and thats why we are using `negative look behind assertion`. "
   ]
  },
  {
   "cell_type": "markdown",
   "metadata": {},
   "source": [
    "### V57. URLs-Question 2"
   ]
  },
  {
   "cell_type": "markdown",
   "metadata": {},
   "source": [
    "url.txt contains following URLs. And we have to extract urls of pattern:  `https://www.abcd123.com`\n",
    "\n",
    "www.google.com\n",
    "\n",
    "www.facebook.com\n",
    "\n",
    "https://www.yahoomail.com\n",
    "\n",
    "https://www.microsoft.com\n",
    "\n",
    "https://www.abcd123.in\n",
    "\n",
    "www.amazon.in\n",
    "\n",
    "www.pqrs.in\n",
    "\n",
    "www.xyz.in\n",
    "\n",
    "https://www.flipkart.in\n",
    "\n",
    "https://www.nitt.edu"
   ]
  },
  {
   "cell_type": "code",
   "execution_count": 3,
   "metadata": {},
   "outputs": [
    {
     "name": "stdout",
     "output_type": "stream",
     "text": [
      "https://www.yahoomail.com\n",
      "https://www.microsoft.com\n",
      "https://www.abcd123.in\n",
      "https://www.flipkart.in\n",
      "https://www.nitt.edu\n"
     ]
    }
   ],
   "source": [
    "#URL Program2\n",
    "\n",
    "import re\n",
    "#read the text file\n",
    "fp=open('url.txt','r')\n",
    "text=fp.read()\n",
    "\n",
    "#write the regex expression\n",
    "pattern=r'https://www\\.[a-z0-9]+\\.[a-z]+'\n",
    "\n",
    "#create the regex object\n",
    "regex=re.compile(pattern)\n",
    "\n",
    "#extract the urls\n",
    "urls=regex.findall(text)\n",
    "for u in urls:\n",
    "    print(u)"
   ]
  },
  {
   "cell_type": "markdown",
   "metadata": {},
   "source": [
    "### V59. URLs-Question 3"
   ]
  },
  {
   "cell_type": "markdown",
   "metadata": {},
   "source": [
    "url.txt contains follwoing URLs. And we have to extract urls of pattern:  `www.abcd123.com` and also `https://www.abcd123.com`\n",
    "So this is combination of first 2 questions\n",
    "\n",
    "www.google.com\n",
    "\n",
    "www.facebook.com\n",
    "\n",
    "https://www.yahoomail.com\n",
    "\n",
    "https://www.microsoft.com\n",
    "\n",
    "https://www.abcd123.in\n",
    "\n",
    "www.amazon.in\n",
    "\n",
    "www.pqrs.in\n",
    "\n",
    "www.xyz.in\n",
    "\n",
    "https://www.flipkart.in\n",
    "\n",
    "https://www.nitt.edu"
   ]
  },
  {
   "cell_type": "code",
   "execution_count": 4,
   "metadata": {},
   "outputs": [
    {
     "name": "stdout",
     "output_type": "stream",
     "text": [
      "www.google.com\n",
      "www.facebook.com\n",
      "https://www.yahoomail.com\n",
      "https://www.microsoft.com\n",
      "https://www.abcd123.in\n",
      "www.amazon.in\n",
      "www.pqrs.in\n",
      "www.xyz.in\n",
      "https://www.flipkart.in\n",
      "https://www.nitt.edu\n"
     ]
    }
   ],
   "source": [
    "#URL Program 3\n",
    "\n",
    "import re\n",
    "#read the text file\n",
    "fp=open('url.txt','r')\n",
    "text=fp.read()\n",
    "\n",
    "#write the regex expression\n",
    "pattern=r'(?:https://)?www\\.[a-z0-9]+\\.[a-z]+' # will NOT work for gmail.co.in\n",
    "# pattern=r'.*www\\.[a-z0-9]+\\.[a-z]+' # will NOT work for gmail.co.in\n",
    "# pattern=r'.+\\.[a-z0-9]+\\.[a-z]+' # will NOT work for gmail.co.in\n",
    "\n",
    "# pattern = r'(?:https://)?www\\.[a-z0-9]+(?:\\.[a-z]+)+' # will work for gmail.co.in\n",
    "# pattern = '(?:https://)?www\\S+' # will work for gmail.co.in\n",
    "\n",
    "#create the regex object\n",
    "regex=re.compile(pattern)\n",
    "\n",
    "#extract the urls\n",
    "urls=regex.findall(text)\n",
    "for u in urls:\n",
    "    print(u)"
   ]
  },
  {
   "cell_type": "markdown",
   "metadata": {},
   "source": [
    "`r'(?:https://)?www\\.[a-z0-9]+\\.[a-z]+'`  \n",
    "\n",
    "**Focus `(?:https://)?`**\n",
    "\n",
    "`(https://)` part is optional. It can be 0 OR 1 time. So we have to use `?` i.e. `(https://)?`\n",
    "        \n",
    "As we are trying to extract the entire url we will have to add non-capturing group here i.e. `?:`\n",
    "\n",
    "So overall it becomes `(https://)` "
   ]
  },
  {
   "cell_type": "markdown",
   "metadata": {},
   "source": [
    "______________________________________________________________________________________________________________________\n",
    "In case we have website like `www.flipkart.co.in` then used pattern will not work.\n",
    "\n",
    "`pattern = r'(?:https://)?www\\.[a-z0-9]+(?:\\.[a-z]+)+'` will work.\n",
    "\n",
    "`(?:\\.[a-z]+)+` : Here after literal dot `\\.` matches dot after `flipkart`. Then any number of letters MATCHED by   `[a-z]+`. Now for `.in` which requires the same code, we put a `+` outside `(?:\\.[a-z]+)`. Non-capturing group is denoted by `?:` so their entire website can be matched.\n",
    "\n",
    "Another alternative pattern would be `'(?:https://)?www\\S+'`"
   ]
  },
  {
   "cell_type": "markdown",
   "metadata": {},
   "source": [
    "### V61. URLs-Question 4"
   ]
  },
  {
   "cell_type": "markdown",
   "metadata": {},
   "source": [
    "url.txt contains following URLs. And we have to extract urls of pattern:  `www.abcd123.in` and also `https://www.abcd123.in`\n",
    "\n",
    "www.google.com\n",
    "\n",
    "www.facebook.com\n",
    "\n",
    "https://www.yahoomail.com\n",
    "\n",
    "https://www.microsoft.com\n",
    "\n",
    "https://www.abcd123.in\n",
    "\n",
    "www.amazon.in\n",
    "\n",
    "www.pqrs.in\n",
    "\n",
    "www.xyz.in\n",
    "\n",
    "https://www.flipkart.in\n",
    "\n",
    "https://www.nitt.edu"
   ]
  },
  {
   "cell_type": "code",
   "execution_count": 11,
   "metadata": {},
   "outputs": [
    {
     "name": "stdout",
     "output_type": "stream",
     "text": [
      "https://www.abcd123.in\n",
      "www.amazon.in\n",
      "www.pqrs.in\n",
      "www.xyz.in\n",
      "https://www.flipkart.in\n"
     ]
    }
   ],
   "source": [
    "#URL Program 4\n",
    "\n",
    "import re\n",
    "#read the text file\n",
    "fp=open('url.txt','r')\n",
    "text=fp.read()\n",
    "\n",
    "#write the regex expression\n",
    "pattern=r'(?:https://)?www\\.[a-z0-9]+\\.in'\n",
    "\n",
    "#create the regex object\n",
    "regex=re.compile(pattern)\n",
    "\n",
    "#extract the urls\n",
    "urls=regex.findall(text)\n",
    "for u in urls:\n",
    "    print(u)"
   ]
  },
  {
   "cell_type": "markdown",
   "metadata": {},
   "source": [
    "`r'(?:https://)?www\\.[a-z0-9]+\\.[a-z]+'`  \n",
    "\n",
    "**Focus `(?:https://)?`**\n",
    "\n",
    "`(https://)` part is optional. It can be 0 OR 1 time. So we have to use `?` i.e. `(https://)?`\n",
    "        \n",
    "As we are trying to extract the entire url we will have to add non-capturing group here i.e. `?:`\n",
    "\n",
    "So overall it becomes `(https://)` "
   ]
  },
  {
   "cell_type": "markdown",
   "metadata": {},
   "source": [
    "### V63. URLs-Question 5"
   ]
  },
  {
   "cell_type": "markdown",
   "metadata": {},
   "source": [
    "Trying to find urls with either `.in` or `.com`"
   ]
  },
  {
   "cell_type": "code",
   "execution_count": 7,
   "metadata": {},
   "outputs": [
    {
     "name": "stdout",
     "output_type": "stream",
     "text": [
      "www.google.com\n",
      "www.facebook.com\n",
      "https://www.yahoomail.com\n",
      "https://www.microsoft.com\n",
      "https://www.abcd123.in\n",
      "www.amazon.in\n",
      "www.pqrs.in\n",
      "www.xyz.in\n",
      "https://www.flipkart.in\n"
     ]
    }
   ],
   "source": [
    "#URL Question 5 Solution\n",
    "\n",
    "import re\n",
    "#read the text file having urls\n",
    "fp=open('url.txt','r')\n",
    "text=fp.read()\n",
    "\n",
    "#write the regex expression\n",
    "pattern=r'(?:https://)?www\\.[a-z0-9]+\\.(?:in|com)'\n",
    "\n",
    "#create the regex object\n",
    "regex=re.compile(pattern)\n",
    "\n",
    "#extract the urls\n",
    "urls=regex.findall(text)\n",
    "\n",
    "for u in urls:\n",
    "    print(u)"
   ]
  },
  {
   "cell_type": "markdown",
   "metadata": {},
   "source": [
    "`(?:in|com)`. This `(in|com)` group allows matching to URLs with `in` or `com`. To have the entire URL we need to add **non-capturing group** i.e. `?:` at the beginning of the group"
   ]
  },
  {
   "cell_type": "markdown",
   "metadata": {},
   "source": [
    "## Section 12. Case Study 2- Dates\n",
    "### V66. Dates-Question 1"
   ]
  },
  {
   "cell_type": "markdown",
   "metadata": {},
   "source": [
    "**Task** match dates in the format dd-mm-yyyy"
   ]
  },
  {
   "cell_type": "code",
   "execution_count": 21,
   "metadata": {},
   "outputs": [
    {
     "name": "stdout",
     "output_type": "stream",
     "text": [
      "20-06-1989\n"
     ]
    }
   ],
   "source": [
    "#text= 'Dates are 20-06-1989, 12/04/1982, 12.04.1963'\n",
    "# One can just put text file here. Or put a .txt file in\n",
    "# the directory Jupyter notebook is started\n",
    "import re\n",
    "\n",
    "fp=open('dates.txt','r')\n",
    "text=fp.read()\n",
    "\n",
    "pattern = r'\\b\\d{2}-\\d{2}-\\d{4}\\b'\n",
    "regex = re.compile(pattern)\n",
    "dates = regex.findall(text)\n",
    "\n",
    "for d in dates:\n",
    "    print(d)"
   ]
  },
  {
   "cell_type": "markdown",
   "metadata": {},
   "source": [
    "Here `\\b` is the boundary.\n",
    "\n",
    "`\\b` represents the word boundary that is non word characters. Word characters are A-Z, a-z,0-9 and _\n",
    "\n",
    "`\\bcat\\b`  - means no word character at the beginning and  end of the word cat.\n",
    "\n",
    "`\\bcat\\b` matches cat in cat, but not cat in catalyst.\n",
    "\n",
    "`\\bfoo\\b` matches foo in (foo), foo. but not foo in fool, fool3."
   ]
  },
  {
   "cell_type": "markdown",
   "metadata": {},
   "source": [
    "### V66. Dates-Question 2"
   ]
  },
  {
   "cell_type": "markdown",
   "metadata": {},
   "source": [
    "**Task** match dates in the format dd-mm-yyyy, dd/mm/yyyy, dd.mm.yyyy"
   ]
  },
  {
   "cell_type": "code",
   "execution_count": 22,
   "metadata": {},
   "outputs": [
    {
     "name": "stdout",
     "output_type": "stream",
     "text": [
      "20-06-1989\n",
      "12/04/1982\n",
      "12.04.1963\n"
     ]
    }
   ],
   "source": [
    "#text= 'Dates are 20-06-1989, 12/04/1982, 12.04.1963'\n",
    "import re\n",
    "\n",
    "fp=open('dates.txt','r')\n",
    "text=fp.read()\n",
    "\n",
    "#pattern = r'\\b\\d{2}\\W\\d{2}\\W\\d{4}\\b'\n",
    "pattern = r'\\b\\d{2}[-/.]\\d{2}[-/.]\\d{4}\\b'\n",
    "\n",
    "regex = re.compile(pattern)\n",
    "dates = regex.findall(text)\n",
    "\n",
    "for d in dates:\n",
    "    print(d)"
   ]
  },
  {
   "cell_type": "markdown",
   "metadata": {},
   "source": [
    "`\\W` means any non-word character\n",
    "\n",
    "`[-/.]` putting `.` and rest in the `[ ]` makes it literal (strip them from being special characters)"
   ]
  },
  {
   "cell_type": "markdown",
   "metadata": {},
   "source": [
    "### V70. Dates-Question 3"
   ]
  },
  {
   "cell_type": "markdown",
   "metadata": {},
   "source": [
    "**Task** match dates in the format dd/mm/yyyy, dd/mm/yy"
   ]
  },
  {
   "cell_type": "code",
   "execution_count": 2,
   "metadata": {},
   "outputs": [
    {
     "name": "stdout",
     "output_type": "stream",
     "text": [
      "12/04/1982\n",
      "12/04/67\n",
      "12/04/1967\n"
     ]
    }
   ],
   "source": [
    "import re\n",
    "\n",
    "fp=open('dates1.txt','r')\n",
    "text=fp.read()\n",
    "\n",
    "# pattern = r'\\b\\d{2}/\\d{2}/\\d{2,4}\\b' \n",
    "# d{2,4} will match yy, yyy, yyyy\n",
    "pattern = r'\\b\\d{2}/\\d{2}/\\d{2}(?:\\d{2})?\\b'\n",
    "\n",
    "regex = re.compile(pattern)\n",
    "dates = regex.findall(text)\n",
    "\n",
    "for d in dates:\n",
    "    print(d)"
   ]
  },
  {
   "cell_type": "markdown",
   "metadata": {},
   "source": [
    "Here **trick** is years is present in the format `yyyy` and `yy`. So for first `yy` it will be `\\d{2}`. But next 2 `yy` is optional i.e. the optional or extra `yy` can appear 0 or 1 time. So it will be `(\\d{2})?`. Here `?` mark is signifying extra `\\d` is optional i.e. it can appear 0 or 1 time.\n",
    "\n",
    "Now as we are trying to get the entire date, we have to add `non-capturing group` to the optional year code. Thus it will be `(?:\\d{2}?)`"
   ]
  },
  {
   "cell_type": "markdown",
   "metadata": {},
   "source": [
    "### V72. Dates-Question 4"
   ]
  },
  {
   "cell_type": "markdown",
   "metadata": {},
   "source": [
    "**Task** match dates in the format dd-mm-yyyy where yyyy can be ONLY 1999"
   ]
  },
  {
   "cell_type": "code",
   "execution_count": 3,
   "metadata": {},
   "outputs": [
    {
     "name": "stdout",
     "output_type": "stream",
     "text": [
      "['22-06-1999', '12-04-1999']\n"
     ]
    }
   ],
   "source": [
    "text= 'Dates are 22-06-1999, 12/12/1999, 12-04-1999, 12-06-1963'\n",
    "import re\n",
    "\n",
    "pattern = r'\\b\\d{2}-\\d{2}-1999\\b'\n",
    "regex = re.compile(pattern)\n",
    "dates = regex.findall(text)\n",
    "\n",
    "print(dates)"
   ]
  },
  {
   "cell_type": "markdown",
   "metadata": {},
   "source": [
    "### V74. Dates-Question 5"
   ]
  },
  {
   "cell_type": "markdown",
   "metadata": {},
   "source": [
    "**Task** match dates in the format dd-mm-yyyy where yyyy can be from `1980` to `1999`"
   ]
  },
  {
   "cell_type": "code",
   "execution_count": 4,
   "metadata": {},
   "outputs": [
    {
     "name": "stdout",
     "output_type": "stream",
     "text": [
      "['22-06-1980', '12-12-1984', '12-04-1999']\n"
     ]
    }
   ],
   "source": [
    "text= 'Dates are 22-06-1980, 12-12-1984, 12-04-1999, 12-06-1963'\n",
    "import re\n",
    "\n",
    "pattern = r'\\b\\d{2}-\\d{2}-19[89][0-9]\\b'\n",
    "regex = re.compile(pattern)\n",
    "dates = regex.findall(text)\n",
    "\n",
    "print(dates)"
   ]
  },
  {
   "cell_type": "markdown",
   "metadata": {},
   "source": [
    "3rd `Y` of `yyyy` can be either 8 or 9 and therefore `[89]`. However, the 4th `y` of `yyyy` can be any digit and thus we use `[0-9]`"
   ]
  },
  {
   "cell_type": "markdown",
   "metadata": {},
   "source": [
    "### V76. Dates-Question 6"
   ]
  },
  {
   "cell_type": "markdown",
   "metadata": {},
   "source": [
    "**Task** match dates in the format dd-mm-yyyy where mm should be months where days can be 31"
   ]
  },
  {
   "cell_type": "code",
   "execution_count": 5,
   "metadata": {},
   "outputs": [
    {
     "name": "stdout",
     "output_type": "stream",
     "text": [
      "['12-07-1984', '12-08-1963']\n"
     ]
    }
   ],
   "source": [
    "text= 'Dates are 22-06-1980, 12-07-1984, 12-04-1999, 12-08-1963, 12-12, 1986'\n",
    "import re\n",
    "\n",
    "#pattern = r'\\b\\d{2}-(?:01|03|05|07|08|09|10|12)-\\d{4}\\b'\n",
    "pattern = r'\\b\\d{2}-(?:0[135789]|1[02])-\\d{4}\\b'\n",
    "\n",
    "regex = re.compile(pattern)\n",
    "dates = regex.findall(text)\n",
    "\n",
    "print(dates)"
   ]
  },
  {
   "cell_type": "markdown",
   "metadata": {},
   "source": [
    "For months with 31 days we know they have to be `01|03|05|07|08|09|10|12` so we can just put that. `?:` used to add non-capturing group with that as we are trying to extract the entire date value."
   ]
  },
  {
   "cell_type": "markdown",
   "metadata": {},
   "source": [
    "**Trick** We see for `01|03|05|07|08|09|`,  `0` is common so regular expression for these months can be `0[135789]`\n",
    "\n",
    "For 10|12 we see `1` is comon and other 2 digits can be `0 or 2`. So regular expression for these months can be `1[02]`\n",
    "\n",
    "So overall it will be `(?:0[135789]|1[02])`. As always the motivation is to extract the entire date so we have to add `non-capturing group` with the code and thats why `?:` is added"
   ]
  },
  {
   "cell_type": "markdown",
   "metadata": {},
   "source": [
    "## Section 13. Case Study 3- Numbers\n",
    "### V79. Numbers-Question 1"
   ]
  },
  {
   "cell_type": "markdown",
   "metadata": {},
   "source": [
    "**Match all numbers between 10 and 99**"
   ]
  },
  {
   "cell_type": "code",
   "execution_count": 6,
   "metadata": {},
   "outputs": [
    {
     "name": "stdout",
     "output_type": "stream",
     "text": [
      "['10', '64', '62', '49']\n"
     ]
    }
   ],
   "source": [
    "text= 'The numbers are 10, 100, 140, 64, 62, 49, 200'\n",
    "import re\n",
    "\n",
    "pattern = r'\\b[1-9][0-9]\\b'\n",
    "\n",
    "regex = re.compile(pattern)\n",
    "dates = regex.findall(text)\n",
    "\n",
    "print(dates)"
   ]
  },
  {
   "cell_type": "markdown",
   "metadata": {},
   "source": [
    "`r'[1-9][0-9]'` can match 99 as well as 199. To keep the limit or boundary of the digits within 2 we set up boundary by `\\b`"
   ]
  },
  {
   "cell_type": "markdown",
   "metadata": {},
   "source": [
    "### V81. Numbers-Question 2"
   ]
  },
  {
   "cell_type": "markdown",
   "metadata": {},
   "source": [
    "**Match all even integers**"
   ]
  },
  {
   "cell_type": "code",
   "execution_count": 16,
   "metadata": {},
   "outputs": [
    {
     "name": "stdout",
     "output_type": "stream",
     "text": [
      "['2', '8', '18', '140', '44', '206']\n"
     ]
    }
   ],
   "source": [
    "text= 'The numbers are 2, 8 ,18, 109, 140, 44, 63, 59, 206'\n",
    "import re\n",
    "\n",
    "pattern = r'\\b\\d*[02468]\\b'\n",
    "#pattern = r'\\b[02468]\\b|\\b\\d+[02468]\\b'\n",
    "\n",
    "regex = re.compile(pattern)\n",
    "dates = regex.findall(text)\n",
    "\n",
    "print(dates)"
   ]
  },
  {
   "cell_type": "markdown",
   "metadata": {},
   "source": [
    "**Be careful about digits which can be single or the containing several digits. Take both of them into account.**"
   ]
  },
  {
   "cell_type": "markdown",
   "metadata": {},
   "source": [
    "### V83. Numbers-Question 3"
   ]
  },
  {
   "cell_type": "markdown",
   "metadata": {},
   "source": [
    "**Match all odd integers**"
   ]
  },
  {
   "cell_type": "code",
   "execution_count": 8,
   "metadata": {},
   "outputs": [
    {
     "name": "stdout",
     "output_type": "stream",
     "text": [
      "['7', '109', '63', '59']\n"
     ]
    }
   ],
   "source": [
    "text= 'The numbers are 2, 8 ,7, 18, 109, \\\n",
    "                            140, 44, 63, 59, 206'\n",
    "import re\n",
    "\n",
    "#pattern = r'\\b\\d*[13579]\\b'\n",
    "pattern = r'\\b[13579]\\b|\\b\\d+[13579]\\b'\n",
    "\n",
    "regex = re.compile(pattern)\n",
    "dates = regex.findall(text)\n",
    "\n",
    "print(dates)"
   ]
  },
  {
   "cell_type": "markdown",
   "metadata": {},
   "source": [
    "### V85. Numbers-Question 4"
   ]
  },
  {
   "cell_type": "markdown",
   "metadata": {},
   "source": [
    "** Match even digits of digits**"
   ]
  },
  {
   "cell_type": "code",
   "execution_count": 10,
   "metadata": {},
   "outputs": [
    {
     "name": "stdout",
     "output_type": "stream",
     "text": [
      "18\n",
      "44\n",
      "63\n",
      "59\n",
      "1414\n",
      "4003\n"
     ]
    }
   ],
   "source": [
    "text= 'The numbers are 2, 8 ,7, 18, 109, 140, \\\n",
    "                        44, 63, 59, 206, 1414, 4003'\n",
    "import re\n",
    "\n",
    "pattern = r'\\b(?:\\d{2})+\\b'\n",
    "\n",
    "\n",
    "regex = re.compile(pattern)\n",
    "dates = regex.findall(text)\n",
    "\n",
    "for d in dates:\n",
    "    print(d)"
   ]
  },
  {
   "cell_type": "markdown",
   "metadata": {},
   "source": [
    "`\\d{2}` means 2 digits. `+` means 1 or more time. 1 time will ensure 2 digits. 2 time will ensure d{2} and d{2} that means 4 digits and so on. Thus it will lead to even number of digits.\n",
    "\n",
    "`?:` is used for `non-capturing groups` so that the entire group is extracted.\n",
    "    \n",
    "`\\b` is also necessary so that 2 digits are NOT extracted from a 3 digit number.\n"
   ]
  },
  {
   "cell_type": "markdown",
   "metadata": {},
   "source": [
    "### V87. Numbers-Question 5"
   ]
  },
  {
   "cell_type": "markdown",
   "metadata": {},
   "source": [
    "** Match all numbers between 100 and 150**"
   ]
  },
  {
   "cell_type": "code",
   "execution_count": 12,
   "metadata": {},
   "outputs": [
    {
     "name": "stdout",
     "output_type": "stream",
     "text": [
      "109\n",
      "140\n",
      "150\n",
      "100\n"
     ]
    }
   ],
   "source": [
    "text= 'The numbers are 2, 8 ,7, 18, 109, 140, \\\n",
    "                150, 100, 44, 63, 59, 206, 1414, 4003'\n",
    "import re\n",
    "\n",
    "pattern = r'\\b(1[0-4][0-9]|150)\\b'\n",
    "\n",
    "\n",
    "regex = re.compile(pattern)\n",
    "dates = regex.findall(text)\n",
    "\n",
    "for d in dates:\n",
    "    print(d)"
   ]
  },
  {
   "cell_type": "markdown",
   "metadata": {},
   "source": [
    "Necessary to put pattern in the `()` or use group. Otherwise it will extract 141 from 1414 as well."
   ]
  },
  {
   "cell_type": "markdown",
   "metadata": {},
   "source": [
    "### V89. Numbers-Question 6"
   ]
  },
  {
   "cell_type": "markdown",
   "metadata": {},
   "source": [
    "** Match all numbers below 1000**"
   ]
  },
  {
   "cell_type": "code",
   "execution_count": 13,
   "metadata": {},
   "outputs": [
    {
     "name": "stdout",
     "output_type": "stream",
     "text": [
      "2\n",
      "8\n",
      "7\n",
      "18\n",
      "109\n",
      "140\n",
      "150\n",
      "100\n",
      "44\n",
      "63\n",
      "59\n",
      "206\n",
      "0\n",
      "999\n"
     ]
    }
   ],
   "source": [
    "text= 'The numbers are 2, 8 ,7, 18, 109, 140, \\\n",
    "                150, 100, 44, 63, 59, 206, 1414,0, 999 4003'\n",
    "import re\n",
    "\n",
    "pattern = r'\\b(\\d|\\d{2}|\\d{3})\\b'\n",
    "#pattern = r'\\b([0-9]|[1-9][0-9]|[1-9][0-9][0-9])\\b'\n",
    "\n",
    "regex = re.compile(pattern)\n",
    "dates = regex.findall(text)\n",
    "\n",
    "for d in dates:\n",
    "    print(d)"
   ]
  },
  {
   "cell_type": "markdown",
   "metadata": {},
   "source": [
    "## Section 14. Case Study 4- Email IDs\n",
    "### V91. Email IDs-Question 1"
   ]
  },
  {
   "cell_type": "markdown",
   "metadata": {},
   "source": [
    "**Match all email IDs**"
   ]
  },
  {
   "cell_type": "code",
   "execution_count": 14,
   "metadata": {},
   "outputs": [
    {
     "name": "stdout",
     "output_type": "stream",
     "text": [
      "abcd.fg@yahoo.co.in\n",
      "xyz_abc12@yahoo.com\n",
      "pqr-143@gmail.com\n",
      "jack_14@zoho.com\n",
      "bacd_fg@outlook.com\n",
      "bad_boy@gmx.com\n",
      "white.149@yahoo.co.in\n",
      "black_28@gmx.com\n",
      "abcd.47@zoho.com\n",
      "bad_boy2@gmx.com\n",
      "white.19@yahoo.co.in\n",
      "black_78@gmx.com\n"
     ]
    }
   ],
   "source": [
    "text= 'The email ids include abcd.fg@yahoo.co.in, \\\n",
    "            xyz_abc12@yahoo.com, pqr-143@gmail.com, \\\n",
    "            jack_14@zoho.com, bacd_fg@outlook.com, \\\n",
    "            bad_boy@gmx.com, white.149@yahoo.co.in, \\\n",
    "            black_28@gmx.com, abcd.47@zoho.com, bad_boy2@gmx.com \\\n",
    "            white.19@yahoo.co.in, black_78@gmx.com. These are awesome'\n",
    "import re\n",
    "\n",
    "pattern = r'\\b([A-Za-z0-9._-]+@[a-z]+(?:[.][a-z]+)+)\\b'\n",
    "\n",
    "regex = re.compile(pattern)\n",
    "emails = regex.findall(text)\n",
    "\n",
    "for e in emails:\n",
    "    print(e)"
   ]
  },
  {
   "cell_type": "markdown",
   "metadata": {},
   "source": [
    "**Explanation** `pattern = r'\\b([A-Za-z0-9._-]+@[a-z]+(?:[.][a-z]+)+)\\b'` \n",
    "\n",
    "`[A-Za-z0-9._-]+@` matches for anything before `@`\n",
    "\n",
    "`@[a-z]+` matches for anything after `@` like @gmail or @outlook\n",
    "\n",
    "`(?:[.][a-z]+)+)` ,it has 2 parts `[.][a-z]+` matches .com or .co\n",
    "\n",
    "`(?:[.][a-z]+)+` extra `+` ensures .in after .co or anything similar\n",
    "\n",
    "?: for non-capturing groups"
   ]
  },
  {
   "cell_type": "markdown",
   "metadata": {},
   "source": [
    "## Section 14. Case Study 4- Email IDs\n",
    "### V94. Email IDs-Question 2"
   ]
  },
  {
   "cell_type": "markdown",
   "metadata": {},
   "source": [
    "** Match all yahoo email addresses**"
   ]
  },
  {
   "cell_type": "code",
   "execution_count": 15,
   "metadata": {},
   "outputs": [
    {
     "name": "stdout",
     "output_type": "stream",
     "text": [
      "abcd.fg@yahoo.co.in\n",
      "xyz_abc12@yahoo.com\n",
      "white.149@yahoo.co.in\n",
      "white.19@yahoo.co.in\n"
     ]
    }
   ],
   "source": [
    "text= 'The email ids include abcd.fg@yahoo.co.in, \\\n",
    "            xyz_abc12@yahoo.com, pqr-143@gmail.com, \\\n",
    "            jack_14@zoho.com, bacd_fg@outlook.com, \\\n",
    "            bad_boy@gmx.com, white.149@yahoo.co.in, \\\n",
    "            black_28@gmx.com, abcd.47@zoho.com, bad_boy2@gmx.com \\\n",
    "            white.19@yahoo.co.in, black_78@gmx.com. These are awesome'\n",
    "import re\n",
    "\n",
    "pattern = r'\\b([A-Za-z0-9._-]+@yahoo(?:[.][a-z]+)+)\\b'\n",
    "\n",
    "regex = re.compile(pattern)\n",
    "emails = regex.findall(text)\n",
    "\n",
    "for e in emails:\n",
    "    print(e)"
   ]
  },
  {
   "cell_type": "markdown",
   "metadata": {},
   "source": [
    "As yahoo is constant, so fix yahoo after @ and rest of the pattern remains same from the last question."
   ]
  },
  {
   "cell_type": "markdown",
   "metadata": {},
   "source": [
    "## Section 15. Project-Password checker\n",
    "### V95. Password checker"
   ]
  },
  {
   "attachments": {
    "Screen%20Shot%202018-09-30%20at%205.20.56%20AM.png": {
     "image/png": "[encoded data removed]"
    }
   },
   "cell_type": "markdown",
   "metadata": {},
   "source": [
    "![Screen%20Shot%202018-09-30%20at%205.20.56%20AM.png](attachment:Screen%20Shot%202018-09-30%20at%205.20.56%20AM.png)"
   ]
  },
  {
   "cell_type": "markdown",
   "metadata": {},
   "source": [
    "**Password length is between 8 to 32 characters **"
   ]
  },
  {
   "cell_type": "markdown",
   "metadata": {},
   "source": [
    "**1. Password length is between 8 to 32 characters ** `r'^.{8,32}$'` \n",
    "`.` represents any character and `{8,32}` ensures 8-32 length of characters "
   ]
  },
  {
   "cell_type": "markdown",
   "metadata": {},
   "source": [
    "**2. Password must contain A-Z, a-z, 0-9 and special characters such as `*,#,@,!,&`**  \n",
    "\n",
    "`r'[^A-Za-z0-9*#@!&]'` ensures password contains only valid characters"
   ]
  },
  {
   "cell_type": "markdown",
   "metadata": {},
   "source": [
    "**3. Password must contain atleast 1 uppercase letter and that can be in any position**\n",
    "\n",
    "`r'^.*[A-Z].*$'` : Here `[A-Z]` ensures atleast 1 uppercase letter. `.*` before `[A-Z]` ensures there could be any character before the uppercase letter. `.*` after `[A-Z]` ensures there could be any character after the uppercase letter as well."
   ]
  },
  {
   "cell_type": "markdown",
   "metadata": {},
   "source": [
    "**4. Password must contain atleast 1 lowercase letter and that can be in any position**\n",
    "\n",
    "`r'^.*[a-z].*$'` : Here `[a-z]` ensures atleast 1 lowercase letter. `.*` before `[a-z]` ensures there could be any character before the lowercase letter. `.*` after `[a-z]` ensures there could be any character after the lowercase letter as well."
   ]
  },
  {
   "cell_type": "markdown",
   "metadata": {},
   "source": [
    "**5. Password must contain atleast 1 number and that can be in any position**\n",
    "\n",
    "`r'^.*[0-9].*$'` : Here `[0-9]` ensures atleast 1 number. `.*` before `[0-9]` ensures there could be any character before the number. `.*` after `[a-z]` ensures there could be any character after the number as well."
   ]
  },
  {
   "cell_type": "markdown",
   "metadata": {},
   "source": [
    "**6. Password should NOT contain any sequential identical characters**\n",
    "\n",
    "Sequential character can exist anywhere in the password.\n",
    "\n",
    "`r'^.*(.)\\1{2,}*$'`: Here `.*` at the start and at the end ensures there can be characters before or after sequential characters. \n",
    "`(.)\\1{2,}` Here `.` represents any character `\\1` represents numbered back reference which means a copy of the whatever character `.` is which makes it a sequential characters. `{2,}` means `(.)\\1` or sequential character can be 2 or more so that is can match `aa`, `aaa`, `aaaa` etc"
   ]
  },
  {
   "cell_type": "code",
   "execution_count": 2,
   "metadata": {},
   "outputs": [
    {
     "name": "stdout",
     "output_type": "stream",
     "text": [
      "Enter the password:Ducky#123\n",
      "Ducky#123is a valid password\n"
     ]
    }
   ],
   "source": [
    "import re\n",
    "pwd = input('Enter the password:')\n",
    "\n",
    "pattern1 = r'^.{8,32}$'\n",
    "pattern2 = r'[^A-Za-z0-9*#@!&]'\n",
    "pattern3 = r'^.*[A-Z].*$'\n",
    "pattern4 = r'^.*[a-z].*$'\n",
    "pattern5 = r'^.*[0-9].*$'\n",
    "pattern6 = r'^.*[#@*!&].*$'\n",
    "pattern7 = r'^.*(.)\\1{2,}.*$'\n",
    "\n",
    "if not re.search(pattern1,pwd):\n",
    "    print('Length is not between 8-32 characters.')\n",
    "\n",
    "elif re.search(pattern2,pwd):\n",
    "    print('Password contains an invalid character.')\n",
    "\n",
    "elif not re.search(pattern3,pwd):\n",
    "    print('Password should atleast contain 1 uppercase letter')\n",
    "\n",
    "elif not re.search(pattern4,pwd):\n",
    "    print('Password should atleast contain 1 lowercase letter')\n",
    "    \n",
    "elif not re.search(pattern5,pwd):\n",
    "    print('Password should atleast contain 1 digit')\n",
    "    \n",
    "elif not re.search(pattern6,pwd):\n",
    "    print('Password should atleast contain 1 special character')\n",
    "    \n",
    "elif re.search(pattern7,pwd):\n",
    "    print('Password should NOT contain any identical sequential character')\n",
    "    \n",
    "else:\n",
    "    print(pwd+ 'is a valid password')"
   ]
  },
  {
   "cell_type": "code",
   "execution_count": null,
   "metadata": {},
   "outputs": [],
   "source": []
  }
 ],
 "metadata": {
  "kernelspec": {
   "display_name": "Python 3",
   "language": "python",
   "name": "python3"
  },
  "language_info": {
   "codemirror_mode": {
    "name": "ipython",
    "version": 3
   },
   "file_extension": ".py",
   "mimetype": "text/x-python",
   "name": "python",
   "nbconvert_exporter": "python",
   "pygments_lexer": "ipython3",
   "version": "3.6.5"
  },
  "varInspector": {
   "cols": {
    "lenName": 16,
    "lenType": 16,
    "lenVar": 40
   },
   "kernels_config": {
    "python": {
     "delete_cmd_postfix": "",
     "delete_cmd_prefix": "del ",
     "library": "var_list.py",
     "varRefreshCmd": "print(var_dic_list())"
    },
    "r": {
     "delete_cmd_postfix": ") ",
     "delete_cmd_prefix": "rm(",
     "library": "var_list.r",
     "varRefreshCmd": "cat(var_dic_list()) "
    }
   },
   "types_to_exclude": [
    "module",
    "function",
    "builtin_function_or_method",
    "instance",
    "_Feature"
   ],
   "window_display": false
  }
 },
 "nbformat": 4,
 "nbformat_minor": 2
}
