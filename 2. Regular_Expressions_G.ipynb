{
 "cells": [
  {
   "cell_type": "markdown",
   "metadata": {},
   "source": [
    "# Hands on NLP using Python"
   ]
  },
  {
   "cell_type": "markdown",
   "metadata": {},
   "source": [
    "## 2. Regular Expression"
   ]
  },
  {
   "cell_type": "markdown",
   "metadata": {},
   "source": [
    "## S4.V19. Introduction to Regular Expression"
   ]
  },
  {
   "cell_type": "markdown",
   "metadata": {},
   "source": [
    "## S4.V20. Finding patterns in text-Part 1"
   ]
  },
  {
   "cell_type": "code",
   "execution_count": 1,
   "metadata": {},
   "outputs": [
    {
     "data": {
      "text/plain": [
       "<_sre.SRE_Match object; span=(0, 24), match='He was born in year 1996'>"
      ]
     },
     "execution_count": 1,
     "metadata": {},
     "output_type": "execute_result"
    }
   ],
   "source": [
    "import re\n",
    "\n",
    "sentence = 'He was born in year 1996'\n",
    "\n",
    "re.match(r'.*', sentence) # to match entire thing `.*` "
   ]
  },
  {
   "cell_type": "markdown",
   "metadata": {},
   "source": [
    "`.` matches anything. `*` makes it match 0 or more time.\n",
    "\n",
    "`+` matches 1 or more times"
   ]
  },
  {
   "cell_type": "code",
   "execution_count": 2,
   "metadata": {},
   "outputs": [
    {
     "name": "stdout",
     "output_type": "stream",
     "text": [
      "None\n"
     ]
    },
    {
     "data": {
      "text/plain": [
       "<_sre.SRE_Match object; span=(20, 24), match='1996'>"
      ]
     },
     "execution_count": 2,
     "metadata": {},
     "output_type": "execute_result"
    }
   ],
   "source": [
    "# difference between match and search\n",
    "print(re.match(r'\\d+', sentence)) # won't work as it searches from the beginning of the string\n",
    "re.search(r'\\d+', sentence) # look across the string"
   ]
  },
  {
   "cell_type": "code",
   "execution_count": 3,
   "metadata": {},
   "outputs": [
    {
     "name": "stdout",
     "output_type": "stream",
     "text": [
      "<_sre.SRE_Match object; span=(0, 1), match='H'>\n",
      "<_sre.SRE_Match object; span=(0, 2), match='He'>\n",
      "<_sre.SRE_Match object; span=(0, 2), match='He'>\n"
     ]
    }
   ],
   "source": [
    "print(re.match(r'[A-Za-z]', sentence)) # only selects 1st letter \n",
    "print(re.match(r'[A-Za-z]+', sentence)) # selects 1st word\n",
    "print(re.match(r'\\w+', sentence)) # [A-Za-z]+ and \\w+ are same"
   ]
  },
  {
   "cell_type": "code",
   "execution_count": 4,
   "metadata": {},
   "outputs": [
    {
     "name": "stdout",
     "output_type": "stream",
     "text": [
      "<_sre.SRE_Match object; span=(0, 3), match='abb'>\n"
     ]
    },
    {
     "data": {
      "text/plain": [
       "<_sre.SRE_Match object; span=(0, 2), match='ab'>"
      ]
     },
     "execution_count": 4,
     "metadata": {},
     "output_type": "execute_result"
    }
   ],
   "source": [
    "sent = 'abb'\n",
    "print(re.match(r'ab*', sent))\n",
    "re.match(r'ab?', sent)"
   ]
  },
  {
   "cell_type": "markdown",
   "metadata": {},
   "source": [
    "`*` look for 0 or more and thus it finds both `b` and thus we see `abb` matches\n",
    "\n",
    "`?` makes `b` optional here, so `b` can be 0 or 1 time. Thus it matches only 1 `b` out of 2"
   ]
  },
  {
   "cell_type": "markdown",
   "metadata": {},
   "source": [
    "## S4.V21. Finding patterns in text-Part 2"
   ]
  },
  {
   "cell_type": "code",
   "execution_count": 5,
   "metadata": {},
   "outputs": [
    {
     "data": {
      "text/plain": [
       "<_sre.SRE_Match object; span=(0, 2), match='He'>"
      ]
     },
     "execution_count": 5,
     "metadata": {},
     "output_type": "execute_result"
    }
   ],
   "source": [
    "import re\n",
    "\n",
    "sent = 'He was born in year 1996'\n",
    "re.match(r'[a-zA-Z]+', sent)"
   ]
  },
  {
   "cell_type": "code",
   "execution_count": 6,
   "metadata": {},
   "outputs": [
    {
     "name": "stdout",
     "output_type": "stream",
     "text": [
      "None\n"
     ]
    }
   ],
   "source": [
    "sent = '1996 was the year he was born'\n",
    "print(re.match(r'[a-zA-Z]+', sent))"
   ]
  },
  {
   "cell_type": "markdown",
   "metadata": {},
   "source": [
    "**Problem:** Now `match` cant find any pattern. Because match works from the beginning of the sentence and as beginning contains a digit and not word, output is None.\n",
    "\n",
    "**Soultion:** Use `search` it looks through the entire string."
   ]
  },
  {
   "cell_type": "code",
   "execution_count": 7,
   "metadata": {},
   "outputs": [
    {
     "name": "stdout",
     "output_type": "stream",
     "text": [
      "<_sre.SRE_Match object; span=(5, 8), match='was'>\n"
     ]
    }
   ],
   "source": [
    "sent = '1996 was the year he was born'\n",
    "print(re.search(r'[a-zA-Z]+', sent)) # works and finds 1st pattern"
   ]
  },
  {
   "cell_type": "code",
   "execution_count": 8,
   "metadata": {},
   "outputs": [
    {
     "name": "stdout",
     "output_type": "stream",
     "text": [
      "Match\n"
     ]
    }
   ],
   "source": [
    "# start character: to find whether a string starts with digit\n",
    "sent = '1996 was the year he was born'\n",
    "\n",
    "if re.search(r'^\\d+', sent):\n",
    "    print('Match')\n",
    "else:\n",
    "    print('No Match')"
   ]
  },
  {
   "cell_type": "markdown",
   "metadata": {},
   "source": [
    "`^` ensures the beginning of the string"
   ]
  },
  {
   "cell_type": "code",
   "execution_count": 9,
   "metadata": {},
   "outputs": [
    {
     "name": "stdout",
     "output_type": "stream",
     "text": [
      "Match\n"
     ]
    }
   ],
   "source": [
    "# end character: to find whether something specific at the end of the string\n",
    "sent = '1996 was the year he was born'\n",
    "\n",
    "if re.search(r'born$', sent):\n",
    "    print('Match')\n",
    "else:\n",
    "    print('No Match')"
   ]
  },
  {
   "cell_type": "markdown",
   "metadata": {},
   "source": [
    "`$` ensures the end of the string"
   ]
  },
  {
   "cell_type": "markdown",
   "metadata": {},
   "source": [
    "## S4.V22. Substituting patterns in text"
   ]
  },
  {
   "cell_type": "code",
   "execution_count": 41,
   "metadata": {},
   "outputs": [
    {
     "name": "stdout",
     "output_type": "stream",
     "text": [
      "I love Justice League\n"
     ]
    }
   ],
   "source": [
    "import re\n",
    "\n",
    "sent = 'I love Avengers'\n",
    "print(re.sub(r'Avengers','Justice League', sent))"
   ]
  },
  {
   "cell_type": "code",
   "execution_count": 42,
   "metadata": {},
   "outputs": [
    {
     "name": "stdout",
     "output_type": "stream",
     "text": [
      "I love Justice League Justice League\n"
     ]
    }
   ],
   "source": [
    "# will do that for every instance\n",
    "sent = 'I love Avengers Avengers'\n",
    "print(re.sub(r'Avengers','Justice League', sent))"
   ]
  },
  {
   "cell_type": "code",
   "execution_count": 44,
   "metadata": {},
   "outputs": [
    {
     "name": "stdout",
     "output_type": "stream",
     "text": [
      "I 0000 A0000000\n"
     ]
    }
   ],
   "source": [
    "# case insensitive\n",
    "\n",
    "# To replace all characters with numbers\n",
    "sent = 'I love Avengers'\n",
    "print(re.sub(r'[a-z]','0', sent))"
   ]
  },
  {
   "cell_type": "markdown",
   "metadata": {},
   "source": [
    "Interestingly, we see only lowercase letter have been converted. But not uppercase. Because we are only searching for lowercase letter `[a-z]`. We can solve the problem by using `[a-zA-Z]`.\n",
    "\n",
    "Or, use case insensitive as flag i.e. `flags=re.I`"
   ]
  },
  {
   "cell_type": "code",
   "execution_count": 45,
   "metadata": {},
   "outputs": [
    {
     "name": "stdout",
     "output_type": "stream",
     "text": [
      "0 0000 00000000\n"
     ]
    }
   ],
   "source": [
    "sent = 'I love Avengers'\n",
    "print(re.sub(r'[a-z]','0', sent, flags=re.I)) # With case insenitivity all changed to 0"
   ]
  },
  {
   "cell_type": "code",
   "execution_count": 47,
   "metadata": {},
   "outputs": [
    {
     "name": "stdout",
     "output_type": "stream",
     "text": [
      "0 0000 Avengers\n"
     ]
    }
   ],
   "source": [
    "# we can also mention how many we want to change. Default is all\n",
    "sent = 'I love Avengers'\n",
    "print(re.sub(r'[a-z]','0', sent, 5, flags=re.I)) "
   ]
  },
  {
   "cell_type": "markdown",
   "metadata": {},
   "source": [
    "## S4.V23. Shorthand character class"
   ]
  },
  {
   "cell_type": "code",
   "execution_count": 82,
   "metadata": {},
   "outputs": [
    {
     "name": "stdout",
     "output_type": "stream",
     "text": [
      "Welcome to the Year \n"
     ]
    }
   ],
   "source": [
    "import re\n",
    "\n",
    "sent1 = 'Welcome to the Year 2018'\n",
    "sent2 = \"Just ~% +++--- arrived @Jack's place. #fun\"\n",
    "sent3 = 'I                love                  you'\n",
    "\n",
    "# replace digits from sent1\n",
    "sent1_modified = re.sub(r'\\d','', sent1)\n",
    "print(sent1_modified)"
   ]
  },
  {
   "cell_type": "code",
   "execution_count": 83,
   "metadata": {},
   "outputs": [
    {
     "name": "stdout",
     "output_type": "stream",
     "text": [
      "Just   arrived Jacks place fun\n",
      "Just           arrived  Jack s place   fun\n"
     ]
    }
   ],
   "source": [
    "# replce all non-alpha characters\n",
    "sent2_modified = re.sub(r\"[@#~%+-\\.']\",'', sent2)\n",
    "print(sent2_modified)\n",
    "\n",
    "# replce all non-alpha characters-easy way\n",
    "sent2_modified = re.sub(r\"\\W\",' ', sent2)\n",
    "print(sent2_modified)"
   ]
  },
  {
   "cell_type": "code",
   "execution_count": 84,
   "metadata": {},
   "outputs": [
    {
     "name": "stdout",
     "output_type": "stream",
     "text": [
      "Just arrived Jack s place fun\n"
     ]
    }
   ],
   "source": [
    "# replacing 1 or MORE spaces with a single space to keep space between words consistent\n",
    "sent2_modified = re.sub(r\"\\s+\",' ', sent2_modified)\n",
    "print(sent2_modified)"
   ]
  },
  {
   "cell_type": "code",
   "execution_count": 85,
   "metadata": {},
   "outputs": [
    {
     "name": "stdout",
     "output_type": "stream",
     "text": [
      "Just arrived Jack place fun\n"
     ]
    }
   ],
   "source": [
    "# now we need to remove the single letter s\n",
    "sent2_modified = re.sub(r\"\\s+[a-zA-Z]\\s\",' ', sent2_modified)\n",
    "print(sent2_modified)"
   ]
  },
  {
   "cell_type": "code",
   "execution_count": 86,
   "metadata": {},
   "outputs": [
    {
     "name": "stdout",
     "output_type": "stream",
     "text": [
      "I love you\n"
     ]
    }
   ],
   "source": [
    "# replce all SPACES\n",
    "sent3_modified = re.sub(r\"\\s+\",' ', sent3)\n",
    "print(sent3_modified)"
   ]
  },
  {
   "cell_type": "code",
   "execution_count": 89,
   "metadata": {},
   "outputs": [
    {
     "name": "stdout",
     "output_type": "stream",
     "text": [
      "I hate you\n"
     ]
    }
   ],
   "source": [
    "# updating\n",
    "sent3_modified = re.sub(r\"\\s+love\\s+\",' hate ', sent3) # or use r\"\\s+[A-Za-z]+\\s+\"\n",
    "print(sent3_modified)"
   ]
  },
  {
   "cell_type": "markdown",
   "metadata": {},
   "source": [
    "## S4.V25. Preprocessing using RegEx"
   ]
  },
  {
   "cell_type": "code",
   "execution_count": 92,
   "metadata": {},
   "outputs": [
    {
     "name": "stdout",
     "output_type": "stream",
     "text": [
      "['This is wolf scary', 'Welcome to the jungle missing', 'the number to know', 'Remember the name John', 'I love you']\n"
     ]
    }
   ],
   "source": [
    "# clean all impurities\n",
    "\n",
    "X = ['This is a wolf#scary',\n",
    "     'Welcome to the jungle #missing',\n",
    "     '11322 the number to know',\n",
    "     'Remember the name s - John',\n",
    "     'I love you']\n",
    "\n",
    "for i in range(len(X)):\n",
    "    X[i] = re.sub(r'\\W', ' ', X[i]) # remove non-word characters\n",
    "    X[i] = re.sub(r'\\d', ' ', X[i]) # remove digits\n",
    "    X[i] = re.sub(r'\\s+[A-Za-z]\\s+', ' ', X[i]) # remove single letters\n",
    "    # X[i] = re.sub(r'\\s+[a-z]\\s+', ' ', X[i], flags=re.I) # It will also remove single letters\n",
    "    X[i] = re.sub(r'\\s+', ' ', X[i]) # to remove multiple spaces with a single space\n",
    "    X[i] = re.sub(r'^\\s', '', X[i]) # prevent start of sentences with a space\n",
    "    X[i] = re.sub(r'\\s$', '', X[i]) # prevent end of sentences with a space\n",
    "print (X) # clean list of sentences"
   ]
  }
 ],
 "metadata": {
  "kernelspec": {
   "display_name": "Python 3",
   "language": "python",
   "name": "python3"
  },
  "language_info": {
   "codemirror_mode": {
    "name": "ipython",
    "version": 3
   },
   "file_extension": ".py",
   "mimetype": "text/x-python",
   "name": "python",
   "nbconvert_exporter": "python",
   "pygments_lexer": "ipython3",
   "version": "3.6.5"
  },
  "varInspector": {
   "cols": {
    "lenName": 16,
    "lenType": 16,
    "lenVar": 40
   },
   "kernels_config": {
    "python": {
     "delete_cmd_postfix": "",
     "delete_cmd_prefix": "del ",
     "library": "var_list.py",
     "varRefreshCmd": "print(var_dic_list())"
    },
    "r": {
     "delete_cmd_postfix": ") ",
     "delete_cmd_prefix": "rm(",
     "library": "var_list.r",
     "varRefreshCmd": "cat(var_dic_list()) "
    }
   },
   "types_to_exclude": [
    "module",
    "function",
    "builtin_function_or_method",
    "instance",
    "_Feature"
   ],
   "window_display": false
  }
 },
 "nbformat": 4,
 "nbformat_minor": 2
}
