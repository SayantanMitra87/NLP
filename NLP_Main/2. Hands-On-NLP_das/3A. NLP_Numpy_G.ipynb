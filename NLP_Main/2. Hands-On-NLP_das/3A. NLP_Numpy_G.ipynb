{
 "cells": [
  {
   "cell_type": "markdown",
   "metadata": {},
   "source": [
    "## 3.A. Numpy"
   ]
  },
  {
   "cell_type": "code",
   "execution_count": 62,
   "metadata": {},
   "outputs": [],
   "source": [
    "import numpy as np"
   ]
  },
  {
   "cell_type": "code",
   "execution_count": 63,
   "metadata": {},
   "outputs": [
    {
     "name": "stdout",
     "output_type": "stream",
     "text": [
      "[0 1 2 3 4 5 6 7 8 9]\n",
      "[1 2 3 4 5 6 7 8 9]\n",
      "[1 3 5 7 9]\n",
      "[1.  1.5 2.  2.5 3.  3.5 4.  4.5 5.  5.5 6.  6.5 7.  7.5 8.  8.5 9.  9.5]\n"
     ]
    },
    {
     "data": {
      "text/plain": [
       "array([1., 2., 3., 4., 5., 6., 7., 8., 9.])"
      ]
     },
     "execution_count": 63,
     "metadata": {},
     "output_type": "execute_result"
    }
   ],
   "source": [
    "# arange\n",
    "# np.arange([start,] stop[,step,], dtype=None)\n",
    "\n",
    "print(np.arange(10))\n",
    "print(np.arange(1, 10))\n",
    "print(np.arange(1, 10, 2)) # using print will remove the ,\n",
    "print(np.arange(1, 10, 0.5))\n",
    "np.arange(1, 10, dtype='float64')"
   ]
  },
  {
   "cell_type": "code",
   "execution_count": 64,
   "metadata": {},
   "outputs": [
    {
     "name": "stdout",
     "output_type": "stream",
     "text": [
      "1\n",
      "(9,)\n",
      "9\n",
      "int64\n",
      "8\n"
     ]
    }
   ],
   "source": [
    "# Examining the ndarray\n",
    "\n",
    "arr = np.arange(1,10)\n",
    "print(arr.ndim)\n",
    "print(arr.shape)\n",
    "print(arr.size)\n",
    "print(arr.dtype)\n",
    "print(arr.itemsize) # in 64bit machines, it takes 8 bits to be store an integer\n",
    "# If I save this as `dtype='int32'` it will take 4 bits"
   ]
  },
  {
   "cell_type": "code",
   "execution_count": 65,
   "metadata": {},
   "outputs": [
    {
     "data": {
      "text/plain": [
       "72"
      ]
     },
     "execution_count": 65,
     "metadata": {},
     "output_type": "execute_result"
    }
   ],
   "source": [
    "# Memory usage calculation\n",
    "arr.size * arr.itemsize\n",
    "# array size is 9 integers and and in 64 bit machine it takes 8 bits to store each integer\n",
    "# Therefore, total 72 bits of memory used to store an array of size 9"
   ]
  },
  {
   "cell_type": "markdown",
   "metadata": {},
   "source": [
    "**Why used numpy**<br/>\n",
    "Numpy does all calculations in 2-D or 3-D arrays in vectorized manners. Thus we get faster output w.r.t list based operations"
   ]
  },
  {
   "cell_type": "code",
   "execution_count": 66,
   "metadata": {},
   "outputs": [
    {
     "name": "stdout",
     "output_type": "stream",
     "text": [
      "347 ns ± 7.96 ns per loop (mean ± std. dev. of 7 runs, 1000000 loops each)\n"
     ]
    }
   ],
   "source": [
    "%timeit list1 = range(1,1000)"
   ]
  },
  {
   "cell_type": "code",
   "execution_count": 67,
   "metadata": {},
   "outputs": [
    {
     "name": "stdout",
     "output_type": "stream",
     "text": [
      "1.65 µs ± 15 ns per loop (mean ± std. dev. of 7 runs, 1000000 loops each)\n"
     ]
    }
   ],
   "source": [
    "%timeit list1 = np.arange(1,1000)"
   ]
  },
  {
   "cell_type": "markdown",
   "metadata": {},
   "source": [
    "• In case of numpy we had to run 100k loops while in list operation we had to use 1M loops<br/>"
   ]
  },
  {
   "cell_type": "code",
   "execution_count": 68,
   "metadata": {},
   "outputs": [
    {
     "name": "stdout",
     "output_type": "stream",
     "text": [
      "[1 2 3 4 5]\n",
      "[[1 2 3]\n",
      " [4 5 6]]\n"
     ]
    }
   ],
   "source": [
    "# List to Array # 1-D\n",
    "list_1D = [1,2,3,4,5]\n",
    "print(np.asarray(list_1D))\n",
    "\n",
    "# List to Array # 2-D\n",
    "list_2D = [[1,2,3], [4,5,6]]\n",
    "print(np.asarray(list_2D))"
   ]
  },
  {
   "cell_type": "code",
   "execution_count": 69,
   "metadata": {},
   "outputs": [
    {
     "data": {
      "text/plain": [
       "array([[0, 0, 0, 0],\n",
       "       [0, 0, 0, 0],\n",
       "       [0, 0, 0, 0]])"
      ]
     },
     "execution_count": 69,
     "metadata": {},
     "output_type": "execute_result"
    }
   ],
   "source": [
    "# Generate ZEROS\n",
    "# zeros(shape, dtype=float, order='C')\n",
    "\n",
    "listzeros = np.zeros((3,4), dtype='int64')\n",
    "listzeros"
   ]
  },
  {
   "cell_type": "code",
   "execution_count": 70,
   "metadata": {},
   "outputs": [
    {
     "name": "stdout",
     "output_type": "stream",
     "text": [
      "[1. 2. 3. 4.]\n",
      "[1.         1.42857143 1.85714286 2.28571429 2.71428571 3.14285714\n",
      " 3.57142857 4.        ]\n",
      "[1.    1.375 1.75  2.125 2.5   2.875 3.25  3.625]\n"
     ]
    }
   ],
   "source": [
    "# Linspace\n",
    "# np.linspace(start, stop, num=50, endpoint=True, restep=False)\n",
    "\n",
    "print(np.linspace(1,4, num=4))\n",
    "print(np.linspace(1,4, num=8))\n",
    "print(np.linspace(1,4, num=8, endpoint=False))"
   ]
  },
  {
   "cell_type": "markdown",
   "metadata": {},
   "source": [
    "`num` is the number of equally spaced elements generated between `start` and `stop`"
   ]
  },
  {
   "cell_type": "code",
   "execution_count": 71,
   "metadata": {},
   "outputs": [
    {
     "data": {
      "text/plain": [
       "array([[0.18987066, 0.99742505, 0.23253815, 0.54833447],\n",
       "       [0.61088724, 0.79138593, 0.3271145 , 0.84123764],\n",
       "       [0.04079631, 0.09785942, 0.15973928, 0.30531213]])"
      ]
     },
     "execution_count": 71,
     "metadata": {},
     "output_type": "execute_result"
    }
   ],
   "source": [
    "# random generation\n",
    "np.random.random((3,4))"
   ]
  },
  {
   "cell_type": "code",
   "execution_count": 72,
   "metadata": {},
   "outputs": [
    {
     "name": "stdout",
     "output_type": "stream",
     "text": [
      "[[0.35440805 0.42421647 0.05080027 0.88697123]\n",
      " [0.52095557 0.63109658 0.46478828 0.00988048]\n",
      " [0.0874302  0.39247127 0.4926922  0.01711404]]\n",
      "---------------------------------------------\n",
      "[0.52095557 0.63109658 0.4926922  0.88697123]\n",
      "---------------------------------------------\n",
      "[0.88697123 0.63109658 0.4926922 ]\n",
      "---------------------------------------------\n"
     ]
    }
   ],
   "source": [
    "rarr = np.random.random((3,4))\n",
    "print(rarr)\n",
    "print('-'*45)\n",
    "print(np.max(rarr, axis = 0)) # along columns\n",
    "print('-'*45)\n",
    "print(np.max(rarr, axis = 1)) # along rows\n",
    "print('-'*45)"
   ]
  },
  {
   "cell_type": "code",
   "execution_count": 73,
   "metadata": {},
   "outputs": [
    {
     "name": "stdout",
     "output_type": "stream",
     "text": [
      "[[0.37259295 0.04893875 0.50411889 0.98204074]\n",
      " [0.16247397 0.19345832 0.5848142  0.61282767]\n",
      " [0.73369729 0.68675832 0.3076062  0.71140855]]\n",
      "---------------------------------------------\n",
      "[0.16247397 0.04893875 0.3076062  0.61282767]\n",
      "---------------------------------------------\n",
      "[0.04893875 0.16247397 0.3076062 ]\n",
      "---------------------------------------------\n"
     ]
    }
   ],
   "source": [
    "rarr = np.random.random((3,4))\n",
    "print(rarr)\n",
    "print('-'*45)\n",
    "print(np.min(rarr, axis = 0)) # along columns\n",
    "print('-'*45)\n",
    "print(np.min(rarr, axis = 1)) # along rows\n",
    "print('-'*45)"
   ]
  },
  {
   "cell_type": "code",
   "execution_count": 74,
   "metadata": {},
   "outputs": [
    {
     "name": "stdout",
     "output_type": "stream",
     "text": [
      "[[8.50608140e-01 8.78216303e-01 1.76025645e-01 1.83761333e-01]\n",
      " [8.67653115e-01 8.42053995e-01 8.83646622e-01 6.26247049e-01]\n",
      " [4.53257147e-01 4.39472509e-01 8.67682107e-01 1.74925085e-04]]\n",
      "---------------------------------------------\n",
      "[0.85060814 0.842054   0.86768211 0.18376133]\n",
      "---------------------------------------------\n",
      "[0.51718474 0.85485355 0.44636483]\n",
      "---------------------------------------------\n"
     ]
    }
   ],
   "source": [
    "rarr = np.random.random((3,4))\n",
    "print(rarr)\n",
    "print('-'*45)\n",
    "print(np.median(rarr, axis = 0)) # along columns\n",
    "print('-'*45)\n",
    "print(np.median(rarr, axis = 1)) # along rows\n",
    "print('-'*45)"
   ]
  },
  {
   "cell_type": "code",
   "execution_count": 76,
   "metadata": {},
   "outputs": [
    {
     "name": "stdout",
     "output_type": "stream",
     "text": [
      "[[0.88352891 0.20584843 0.70841732 0.45365756]\n",
      " [0.1915833  0.73982752 0.84072891 0.77818396]\n",
      " [0.40581099 0.64279928 0.57658682 0.26354046]]\n",
      "---------------------------------------------\n",
      "[0.88352891 0.20584843 0.70841732 0.45365756 0.1915833  0.73982752\n",
      " 0.84072891 0.77818396 0.40581099 0.64279928 0.57658682 0.26354046]\n",
      "----------------------------------------------------------------------\n",
      "[[0.88352891]\n",
      " [0.20584843]\n",
      " [0.70841732]\n",
      " [0.45365756]\n",
      " [0.1915833 ]\n",
      " [0.73982752]\n",
      " [0.84072891]\n",
      " [0.77818396]\n",
      " [0.40581099]\n",
      " [0.64279928]\n",
      " [0.57658682]\n",
      " [0.26354046]]\n"
     ]
    }
   ],
   "source": [
    "# Reshaping\n",
    "# np.reshape(a, newshape, order = 'C')\n",
    "\n",
    "rarr = np.random.random((3,4)) # 3rows and 4 columns\n",
    "print(rarr)\n",
    "print('-'*45)\n",
    "new_arr = np.reshape(rarr, (12,)) # 1-D array\n",
    "print(new_arr)\n",
    "print('-'*70)\n",
    "new_arr = np.reshape(rarr, (12,1)) # 12 rows and 1 column\n",
    "print(new_arr)"
   ]
  },
  {
   "cell_type": "code",
   "execution_count": 77,
   "metadata": {},
   "outputs": [
    {
     "name": "stdout",
     "output_type": "stream",
     "text": [
      "[[0.2186756  0.74446207 0.82611307 0.55922726 0.6129722 ]\n",
      " [0.22710405 0.45958583 0.78929612 0.71918409 0.29055974]\n",
      " [0.44218903 0.03991683 0.85425051 0.07441108 0.57699401]\n",
      " [0.66283496 0.97714602 0.29556456 0.29318117 0.1849041 ]]\n",
      "-------------------------------------------------------\n",
      "[[0.2186756  0.74446207 0.82611307 0.55922726 0.6129722 ]\n",
      " [0.22710405 0.45958583 0.78929612 0.71918409 0.29055974]\n",
      " [0.44218903 0.03991683 0.85425051 0.07441108 0.57699401]\n",
      " [0.66283496 0.97714602 0.29556456 0.29318117 0.1849041 ]]\n",
      "-------------------------------------------------------\n",
      "[[0.22710405 0.45958583 0.78929612 0.71918409 0.29055974]\n",
      " [0.44218903 0.03991683 0.85425051 0.07441108 0.57699401]]\n",
      "-------------------------------------------------------\n",
      "[[0.74446207 0.82611307]\n",
      " [0.45958583 0.78929612]\n",
      " [0.03991683 0.85425051]\n",
      " [0.97714602 0.29556456]]\n",
      "-------------------------------------------------------\n",
      "[[0.2186756  0.74446207 0.82611307 0.55922726 0.6129722 ]\n",
      " [0.22710405 0.45958583 0.78929612 0.71918409 0.29055974]\n",
      " [0.44218903 0.03991683 0.85425051 0.07441108 0.57699401]]\n"
     ]
    }
   ],
   "source": [
    "# slicing\n",
    "\n",
    "rarr = np.random.random((4,5))\n",
    "print(rarr)\n",
    "print('-'*55)\n",
    "print(rarr[:,:]) # copies everything- all rows and columns\n",
    "print('-'*55)\n",
    "print(rarr[1:3,:]) # copy only 2nd and 3rd row and all columns\n",
    "print('-'*55)\n",
    "print(rarr[:,1:3]) # require all rows and only 2nd and 3rd columns\n",
    "print('-'*55)\n",
    "print(rarr[:-1,:]) # copy everything excluding last rows"
   ]
  }
 ],
 "metadata": {
  "kernelspec": {
   "display_name": "Python 3",
   "language": "python",
   "name": "python3"
  },
  "language_info": {
   "codemirror_mode": {
    "name": "ipython",
    "version": 3
   },
   "file_extension": ".py",
   "mimetype": "text/x-python",
   "name": "python",
   "nbconvert_exporter": "python",
   "pygments_lexer": "ipython3",
   "version": "3.6.5"
  },
  "varInspector": {
   "cols": {
    "lenName": 16,
    "lenType": 16,
    "lenVar": 40
   },
   "kernels_config": {
    "python": {
     "delete_cmd_postfix": "",
     "delete_cmd_prefix": "del ",
     "library": "var_list.py",
     "varRefreshCmd": "print(var_dic_list())"
    },
    "r": {
     "delete_cmd_postfix": ") ",
     "delete_cmd_prefix": "rm(",
     "library": "var_list.r",
     "varRefreshCmd": "cat(var_dic_list()) "
    }
   },
   "types_to_exclude": [
    "module",
    "function",
    "builtin_function_or_method",
    "instance",
    "_Feature"
   ],
   "window_display": false
  }
 },
 "nbformat": 4,
 "nbformat_minor": 2
}
