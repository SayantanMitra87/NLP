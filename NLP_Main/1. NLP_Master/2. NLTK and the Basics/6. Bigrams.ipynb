{
 "cells": [
  {
   "cell_type": "markdown",
   "metadata": {},
   "source": [
    "# NLTK and the Basics - Bigrams"
   ]
  },
  {
   "cell_type": "code",
   "execution_count": 1,
   "metadata": {},
   "outputs": [],
   "source": [
    "import nltk"
   ]
  },
  {
   "cell_type": "markdown",
   "metadata": {
    "collapsed": true
   },
   "source": [
    "Bigrams, sometimes called 2grams, or ngrams (when dealing with a different number), is a way of looking at word sequences."
   ]
  },
  {
   "cell_type": "code",
   "execution_count": 2,
   "metadata": {},
   "outputs": [],
   "source": [
    "text = \"I think it might rain today.\""
   ]
  },
  {
   "cell_type": "code",
   "execution_count": 3,
   "metadata": {},
   "outputs": [],
   "source": [
    "tokens = nltk.word_tokenize(text)"
   ]
  },
  {
   "cell_type": "code",
   "execution_count": 4,
   "metadata": {},
   "outputs": [
    {
     "data": {
      "text/plain": [
       "['I', 'think', 'it', 'might', 'rain', 'today', '.']"
      ]
     },
     "execution_count": 4,
     "metadata": {},
     "output_type": "execute_result"
    }
   ],
   "source": [
    "tokens"
   ]
  },
  {
   "cell_type": "code",
   "execution_count": 5,
   "metadata": {},
   "outputs": [],
   "source": [
    "bigrams =  nltk.bigrams(tokens)"
   ]
  },
  {
   "cell_type": "code",
   "execution_count": 6,
   "metadata": {},
   "outputs": [
    {
     "name": "stdout",
     "output_type": "stream",
     "text": [
      "('I', 'think')\n",
      "('think', 'it')\n",
      "('it', 'might')\n",
      "('might', 'rain')\n",
      "('rain', 'today')\n",
      "('today', '.')\n"
     ]
    }
   ],
   "source": [
    "for item in bigrams:\n",
    "    print (item)"
   ]
  },
  {
   "cell_type": "code",
   "execution_count": 7,
   "metadata": {},
   "outputs": [],
   "source": [
    "trigrams = nltk.trigrams(tokens)"
   ]
  },
  {
   "cell_type": "code",
   "execution_count": 8,
   "metadata": {},
   "outputs": [
    {
     "name": "stdout",
     "output_type": "stream",
     "text": [
      "('I', 'think', 'it')\n",
      "('think', 'it', 'might')\n",
      "('it', 'might', 'rain')\n",
      "('might', 'rain', 'today')\n",
      "('rain', 'today', '.')\n"
     ]
    }
   ],
   "source": [
    "for item in trigrams:\n",
    "    print (item)"
   ]
  },
  {
   "cell_type": "code",
   "execution_count": 9,
   "metadata": {},
   "outputs": [],
   "source": [
    "from nltk.util import ngrams"
   ]
  },
  {
   "cell_type": "code",
   "execution_count": 10,
   "metadata": {},
   "outputs": [],
   "source": [
    "text = \"If it is nice out, I will go to the beach.\""
   ]
  },
  {
   "cell_type": "code",
   "execution_count": 11,
   "metadata": {},
   "outputs": [],
   "source": [
    "tokens = nltk.word_tokenize(text)"
   ]
  },
  {
   "cell_type": "code",
   "execution_count": 12,
   "metadata": {},
   "outputs": [],
   "source": [
    "bigrams = ngrams(tokens,2)"
   ]
  },
  {
   "cell_type": "code",
   "execution_count": 13,
   "metadata": {},
   "outputs": [
    {
     "name": "stdout",
     "output_type": "stream",
     "text": [
      "('If', 'it')\n",
      "('it', 'is')\n",
      "('is', 'nice')\n",
      "('nice', 'out')\n",
      "('out', ',')\n",
      "(',', 'I')\n",
      "('I', 'will')\n",
      "('will', 'go')\n",
      "('go', 'to')\n",
      "('to', 'the')\n",
      "('the', 'beach')\n",
      "('beach', '.')\n"
     ]
    }
   ],
   "source": [
    "for item in bigrams:\n",
    "    print (item)"
   ]
  },
  {
   "cell_type": "code",
   "execution_count": 14,
   "metadata": {},
   "outputs": [],
   "source": [
    "fourgrams = ngrams(tokens,4)"
   ]
  },
  {
   "cell_type": "code",
   "execution_count": 15,
   "metadata": {},
   "outputs": [
    {
     "name": "stdout",
     "output_type": "stream",
     "text": [
      "('If', 'it', 'is', 'nice')\n",
      "('it', 'is', 'nice', 'out')\n",
      "('is', 'nice', 'out', ',')\n",
      "('nice', 'out', ',', 'I')\n",
      "('out', ',', 'I', 'will')\n",
      "(',', 'I', 'will', 'go')\n",
      "('I', 'will', 'go', 'to')\n",
      "('will', 'go', 'to', 'the')\n",
      "('go', 'to', 'the', 'beach')\n",
      "('to', 'the', 'beach', '.')\n"
     ]
    }
   ],
   "source": [
    "for item in fourgrams:\n",
    "    print (item)"
   ]
  },
  {
   "cell_type": "markdown",
   "metadata": {},
   "source": [
    "We can build a function to find any ngram."
   ]
  },
  {
   "cell_type": "code",
   "execution_count": 19,
   "metadata": {},
   "outputs": [],
   "source": [
    "def n_grams(text,n):\n",
    "    tokens = nltk.word_tokenize(text)\n",
    "    grams = ngrams(tokens,n)\n",
    "    return grams"
   ]
  },
  {
   "cell_type": "code",
   "execution_count": 20,
   "metadata": {},
   "outputs": [],
   "source": [
    "text = \"I think it might rain today, but if it is nice out, I will go to the beach.\""
   ]
  },
  {
   "cell_type": "code",
   "execution_count": 21,
   "metadata": {},
   "outputs": [],
   "source": [
    "grams = n_grams(text, 5)"
   ]
  },
  {
   "cell_type": "code",
   "execution_count": 23,
   "metadata": {},
   "outputs": [
    {
     "name": "stdout",
     "output_type": "stream",
     "text": [
      "('I', 'think', 'it', 'might', 'rain')\n",
      "('think', 'it', 'might', 'rain', 'today')\n",
      "('it', 'might', 'rain', 'today', ',')\n",
      "('might', 'rain', 'today', ',', 'but')\n",
      "('rain', 'today', ',', 'but', 'if')\n",
      "('today', ',', 'but', 'if', 'it')\n",
      "(',', 'but', 'if', 'it', 'is')\n",
      "('but', 'if', 'it', 'is', 'nice')\n",
      "('if', 'it', 'is', 'nice', 'out')\n",
      "('it', 'is', 'nice', 'out', ',')\n",
      "('is', 'nice', 'out', ',', 'I')\n",
      "('nice', 'out', ',', 'I', 'will')\n",
      "('out', ',', 'I', 'will', 'go')\n",
      "(',', 'I', 'will', 'go', 'to')\n",
      "('I', 'will', 'go', 'to', 'the')\n",
      "('will', 'go', 'to', 'the', 'beach')\n",
      "('go', 'to', 'the', 'beach', '.')\n"
     ]
    }
   ],
   "source": [
    "for item in grams:\n",
    "    print (item)"
   ]
  }
 ],
 "metadata": {
  "kernelspec": {
   "display_name": "Python 3",
   "language": "python",
   "name": "python3"
  },
  "language_info": {
   "codemirror_mode": {
    "name": "ipython",
    "version": 3
   },
   "file_extension": ".py",
   "mimetype": "text/x-python",
   "name": "python",
   "nbconvert_exporter": "python",
   "pygments_lexer": "ipython3",
   "version": "3.7.1"
  },
  "toc": {
   "base_numbering": 1,
   "nav_menu": {},
   "number_sections": false,
   "sideBar": false,
   "skip_h1_title": false,
   "title_cell": "Table of Contents",
   "title_sidebar": "Contents",
   "toc_cell": false,
   "toc_position": {},
   "toc_section_display": false,
   "toc_window_display": false
  },
  "varInspector": {
   "cols": {
    "lenName": 16,
    "lenType": 16,
    "lenVar": 40
   },
   "kernels_config": {
    "python": {
     "delete_cmd_postfix": "",
     "delete_cmd_prefix": "del ",
     "library": "var_list.py",
     "varRefreshCmd": "print(var_dic_list())"
    },
    "r": {
     "delete_cmd_postfix": ") ",
     "delete_cmd_prefix": "rm(",
     "library": "var_list.r",
     "varRefreshCmd": "cat(var_dic_list()) "
    }
   },
   "types_to_exclude": [
    "module",
    "function",
    "builtin_function_or_method",
    "instance",
    "_Feature"
   ],
   "window_display": false
  }
 },
 "nbformat": 4,
 "nbformat_minor": 1
}
