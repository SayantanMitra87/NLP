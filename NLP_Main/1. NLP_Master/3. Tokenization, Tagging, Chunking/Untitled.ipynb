{
 "cells": [
  {
   "cell_type": "markdown",
   "metadata": {},
   "source": [
    "**Stemmers and lemmatizers  are doing slightly different things.**\n",
    "\n",
    "\n",
    "\n",
    "`Stemmers` look for the stem of a word:\n",
    "\n",
    "Doggie --> Dog   (removes \"gie\")\n",
    "Party and Parties --> Part (removes \"y\" and \"ies\")\n",
    "\n",
    "\n",
    "\n",
    "`Lemmatizers` work to actually find the root word:\n",
    "\n",
    "Doggie --> Dog\n",
    "Party and Parties --> Party\n",
    "\n",
    "\n",
    "As for which one to use, it depends. If you are doing **machine learning classification where you might not need to actually read outputs, stemmers can work.**\n",
    "\n",
    "If are doing something **where you need readable text, lemmatizers might be the way to go.**\n",
    "\n",
    "I don't have a quick answer for monitoring accuracy.  WIth stemmers it is less about accuracy and more about removing rarer endings of words that should map to a base case."
   ]
  }
 ],
 "metadata": {
  "kernelspec": {
   "display_name": "Python 3",
   "language": "python",
   "name": "python3"
  },
  "language_info": {
   "codemirror_mode": {
    "name": "ipython",
    "version": 3
   },
   "file_extension": ".py",
   "mimetype": "text/x-python",
   "name": "python",
   "nbconvert_exporter": "python",
   "pygments_lexer": "ipython3",
   "version": "3.7.1"
  },
  "varInspector": {
   "cols": {
    "lenName": 16,
    "lenType": 16,
    "lenVar": 40
   },
   "kernels_config": {
    "python": {
     "delete_cmd_postfix": "",
     "delete_cmd_prefix": "del ",
     "library": "var_list.py",
     "varRefreshCmd": "print(var_dic_list())"
    },
    "r": {
     "delete_cmd_postfix": ") ",
     "delete_cmd_prefix": "rm(",
     "library": "var_list.r",
     "varRefreshCmd": "cat(var_dic_list()) "
    }
   },
   "types_to_exclude": [
    "module",
    "function",
    "builtin_function_or_method",
    "instance",
    "_Feature"
   ],
   "window_display": false
  }
 },
 "nbformat": 4,
 "nbformat_minor": 2
}
