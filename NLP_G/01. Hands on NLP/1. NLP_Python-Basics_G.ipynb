{
 "cells": [
  {
   "cell_type": "markdown",
   "metadata": {},
   "source": [
    "# Hands on NLP using Python"
   ]
  },
  {
   "cell_type": "markdown",
   "metadata": {},
   "source": [
    "## 1.Introduction to Python"
   ]
  },
  {
   "cell_type": "markdown",
   "metadata": {},
   "source": [
    "## S3.V8. Variables and operations in Python"
   ]
  },
  {
   "cell_type": "code",
   "execution_count": 123,
   "metadata": {},
   "outputs": [
    {
     "name": "stdout",
     "output_type": "stream",
     "text": [
      "Hello world\n"
     ]
    }
   ],
   "source": [
    "print(\"Hello world\")"
   ]
  },
  {
   "cell_type": "code",
   "execution_count": 124,
   "metadata": {},
   "outputs": [
    {
     "name": "stdout",
     "output_type": "stream",
     "text": [
      "10 This is a string 12.5\n",
      "The value of a is  10\n"
     ]
    }
   ],
   "source": [
    "a = 10\n",
    "b = \"This is a string\"\n",
    "c = 12.5\n",
    "\n",
    "print(a,b,c)\n",
    "\n",
    "print(\"The value of a is \",a)"
   ]
  },
  {
   "cell_type": "code",
   "execution_count": 125,
   "metadata": {},
   "outputs": [
    {
     "name": "stdout",
     "output_type": "stream",
     "text": [
      "0\n"
     ]
    }
   ],
   "source": [
    "# Mathematical Operations\n",
    "\n",
    "num1 = 12\n",
    "num2 = 4\n",
    "\n",
    "result = num1+num2\n",
    "result = num1-num2\n",
    "result = num1*num2\n",
    "result = num1/num2\n",
    "result = num1%num2\n",
    "\n",
    "print(result)# last result is taken into account"
   ]
  },
  {
   "cell_type": "code",
   "execution_count": 126,
   "metadata": {},
   "outputs": [
    {
     "name": "stdout",
     "output_type": "stream",
     "text": [
      "I love Avengers\n",
      "I love Avengers\n",
      "I love Avengers\n",
      "I love Avengers\n",
      "I love Avengers\n",
      "\n"
     ]
    }
   ],
   "source": [
    "# Special operations\n",
    "sen = \"I love Avengers\\n\"\n",
    "print(sen*5)"
   ]
  },
  {
   "cell_type": "code",
   "execution_count": 127,
   "metadata": {},
   "outputs": [
    {
     "name": "stdout",
     "output_type": "stream",
     "text": [
      "I like cats so much\n"
     ]
    }
   ],
   "source": [
    "print(\"I like cats\", end=\" \")\n",
    "print(\"so much\")"
   ]
  },
  {
   "cell_type": "markdown",
   "metadata": {},
   "source": [
    "## S3.V9. Conditional statements"
   ]
  },
  {
   "cell_type": "code",
   "execution_count": 128,
   "metadata": {},
   "outputs": [
    {
     "name": "stdout",
     "output_type": "stream",
     "text": [
      "Grade E\n"
     ]
    }
   ],
   "source": [
    "# Structure of if statements\n",
    "\"\"\"\n",
    "if condition:\n",
    "    Statements\n",
    "elif condition:\n",
    "    Statements\n",
    "else:\n",
    "    Statements\n",
    "\"\"\"\n",
    "\n",
    "#Grade of a student\n",
    "marks = 90\n",
    "\n",
    "# No braces in Python, Indectation does the job\n",
    "\n",
    "if marks > 90:\n",
    "    print(\"Grade O\")\n",
    "elif marks > 80:\n",
    "    print(\"Grade E\")\n",
    "elif marks > 70:\n",
    "    print(\"Grade A\")\n",
    "elif marks > 60:\n",
    "    print(\"Grade B\")\n",
    "elif marks > 50:\n",
    "    print(\"Grade C\")\n",
    "else:\n",
    "    print(\"Better luck next time\")"
   ]
  },
  {
   "cell_type": "code",
   "execution_count": 129,
   "metadata": {},
   "outputs": [
    {
     "name": "stdout",
     "output_type": "stream",
     "text": [
      "Divisible\n"
     ]
    }
   ],
   "source": [
    "# Divisible or not\n",
    "\n",
    "number1 = 45\n",
    "number2 = 5\n",
    "\n",
    "if number1%number2 == 0:\n",
    "    print(\"Divisible\")\n",
    "else:\n",
    "    print(\"not divisible\")"
   ]
  },
  {
   "cell_type": "markdown",
   "metadata": {},
   "source": [
    "## S3.V10. Introduction to loops"
   ]
  },
  {
   "cell_type": "code",
   "execution_count": 130,
   "metadata": {},
   "outputs": [
    {
     "name": "stdout",
     "output_type": "stream",
     "text": [
      "1\n",
      "2\n",
      "3\n",
      "4\n",
      "5\n",
      "6\n",
      "7\n",
      "8\n",
      "9\n",
      "10\n"
     ]
    }
   ],
   "source": [
    "# Two types of loops in Python\n",
    "\n",
    "# While Loop\n",
    "\"\"\"\n",
    "while condition:\n",
    "    Statements\n",
    "\"\"\"\n",
    "i = 1;\n",
    "\n",
    "while i <= 10:\n",
    "    print(i)\n",
    "    i += 1    "
   ]
  },
  {
   "cell_type": "code",
   "execution_count": 131,
   "metadata": {},
   "outputs": [
    {
     "name": "stdout",
     "output_type": "stream",
     "text": [
      "1\n",
      "2\n",
      "3\n",
      "4\n",
      "5\n",
      "6\n",
      "7\n",
      "8\n",
      "9\n",
      "10\n"
     ]
    }
   ],
   "source": [
    "# For loop\n",
    "    \n",
    "for i in range(1,11):\n",
    "    print(i)"
   ]
  },
  {
   "cell_type": "code",
   "execution_count": 132,
   "metadata": {},
   "outputs": [
    {
     "name": "stdout",
     "output_type": "stream",
     "text": [
      "1 2 3 4 5 \n",
      "1 2 3 4 5 \n",
      "1 2 3 4 5 \n",
      "1 2 3 4 5 \n"
     ]
    }
   ],
   "source": [
    "# Nested Loops\n",
    "\"\"\"\n",
    "12345\n",
    "12345\n",
    "12345\n",
    "12345\n",
    "\"\"\"\n",
    "for i in range(1,5):\n",
    "    for j in range(1,6):\n",
    "        print(j, end=\" \")\n",
    "    print()\n",
    "# end=\" \", this helps to keep each set of 1,2,3,4,5 to be attached to each other\n",
    "# 2nd PRINT helps to print the output of every external for loop in a new line"
   ]
  },
  {
   "cell_type": "code",
   "execution_count": 133,
   "metadata": {},
   "outputs": [],
   "source": [
    "## S3.V11. Loop Control Statements"
   ]
  },
  {
   "cell_type": "code",
   "execution_count": 134,
   "metadata": {},
   "outputs": [
    {
     "name": "stdout",
     "output_type": "stream",
     "text": [
      "1\n",
      "2\n",
      "3\n",
      "4\n",
      "5\n",
      "6\n",
      "7\n",
      "8\n",
      "9\n",
      "10\n"
     ]
    }
   ],
   "source": [
    "i = 1\n",
    "while i <= 10:\n",
    "    print(i)\n",
    "    i += 1"
   ]
  },
  {
   "cell_type": "code",
   "execution_count": 135,
   "metadata": {},
   "outputs": [
    {
     "name": "stdout",
     "output_type": "stream",
     "text": [
      "1\n",
      "2\n",
      "3\n",
      "4\n",
      "5\n",
      "abc\n"
     ]
    }
   ],
   "source": [
    "# Break statement\n",
    "    \n",
    "i = 1\n",
    "while i <= 10:\n",
    "    if i > 5:\n",
    "# when i becomes 6 it breaks out of this loop\n",
    "# and get completely out of the loop codes\n",
    "        break\n",
    "    print(i)\n",
    "    i += 1\n",
    "print('abc')"
   ]
  },
  {
   "cell_type": "code",
   "execution_count": 136,
   "metadata": {},
   "outputs": [
    {
     "name": "stdout",
     "output_type": "stream",
     "text": [
      "1\n",
      "2\n",
      "3\n",
      "8\n",
      "9\n",
      "10\n"
     ]
    }
   ],
   "source": [
    "# Continue\n",
    "    \n",
    "i = 1\n",
    "while i <= 10:\n",
    "    if i >= 4 and i <= 7:\n",
    "        i += 1\n",
    "        continue\n",
    "    print(i)\n",
    "    i += 1"
   ]
  },
  {
   "cell_type": "markdown",
   "metadata": {},
   "source": [
    "When i >= 4 and i <= 7, due to continue, it goes to top of loop and run again \n",
    "\n",
    "when i >= 4 and i <= 7 is NOT true, it does NOT continue, it prints the value of i."
   ]
  },
  {
   "cell_type": "code",
   "execution_count": 137,
   "metadata": {},
   "outputs": [
    {
     "name": "stdout",
     "output_type": "stream",
     "text": [
      "1\n",
      "2\n",
      "3\n",
      "8\n",
      "9\n",
      "10\n"
     ]
    }
   ],
   "source": [
    "for i in range(1,11):\n",
    "    if i >= 4 and i <= 7:\n",
    "        continue\n",
    "    print(i)"
   ]
  },
  {
   "cell_type": "code",
   "execution_count": 138,
   "metadata": {},
   "outputs": [],
   "source": [
    "# Pass\n",
    "i = 1\n",
    "\n",
    "if i == 1:\n",
    "    pass\n",
    "else:\n",
    "    pass"
   ]
  },
  {
   "cell_type": "markdown",
   "metadata": {},
   "source": [
    "## S3.V12. Python Data Structure- LISTS"
   ]
  },
  {
   "cell_type": "code",
   "execution_count": 139,
   "metadata": {},
   "outputs": [
    {
     "name": "stdout",
     "output_type": "stream",
     "text": [
      "[12, 12.8, 'This is a string']\n",
      "12\n",
      "12.8\n",
      "This is a string\n"
     ]
    }
   ],
   "source": [
    "# Non homogeneous collection of elements: \n",
    "# can have any data types in the list\n",
    "\n",
    "list1 = [12,12.8,'This is a string']\n",
    "\n",
    "# Printing the list\n",
    "print(list1)\n",
    "print(list1[0])\n",
    "print(list1[1])\n",
    "print(list1[2])"
   ]
  },
  {
   "cell_type": "code",
   "execution_count": 140,
   "metadata": {},
   "outputs": [
    {
     "name": "stdout",
     "output_type": "stream",
     "text": [
      "[12, 12.8, 'This is a string', 50]\n"
     ]
    },
    {
     "data": {
      "text/plain": [
       "['Another string', 12, 12.8, 'This is a string', 50]"
      ]
     },
     "execution_count": 140,
     "metadata": {},
     "output_type": "execute_result"
    }
   ],
   "source": [
    "# Adding elements to the list\n",
    "\n",
    "list1.append(50)\n",
    "print(list1)\n",
    "\n",
    "list1.insert(0,'Another string')\n",
    "# 'Another string' will be added to the 0th index of list1\n",
    "list1"
   ]
  },
  {
   "cell_type": "code",
   "execution_count": 141,
   "metadata": {},
   "outputs": [
    {
     "name": "stdout",
     "output_type": "stream",
     "text": [
      "This is a string\n"
     ]
    }
   ],
   "source": [
    "print(list1[3])"
   ]
  },
  {
   "cell_type": "code",
   "execution_count": 142,
   "metadata": {},
   "outputs": [
    {
     "data": {
      "text/plain": [
       "['Another string', 20, 12.8, 'This is a string', 50]"
      ]
     },
     "execution_count": 142,
     "metadata": {},
     "output_type": "execute_result"
    }
   ],
   "source": [
    "# Updating List\n",
    "\n",
    "list1[1] = 20\n",
    "list1"
   ]
  },
  {
   "cell_type": "code",
   "execution_count": 143,
   "metadata": {},
   "outputs": [
    {
     "name": "stdout",
     "output_type": "stream",
     "text": [
      "['Another string', 20, 12.8, 'This is a string']\n"
     ]
    },
    {
     "data": {
      "text/plain": [
       "['Another string', 20, 'This is a string']"
      ]
     },
     "execution_count": 143,
     "metadata": {},
     "output_type": "execute_result"
    }
   ],
   "source": [
    "# Deleting elements of the list\n",
    "\n",
    "list1.pop()\n",
    "# pop delete last element of the list\n",
    "print(list1)\n",
    "\n",
    "del list1[2]\n",
    "list1"
   ]
  },
  {
   "cell_type": "code",
   "execution_count": 144,
   "metadata": {},
   "outputs": [
    {
     "name": "stdout",
     "output_type": "stream",
     "text": [
      "3\n"
     ]
    }
   ],
   "source": [
    "# Length of the list\n",
    "\n",
    "print(len(list1))"
   ]
  },
  {
   "cell_type": "code",
   "execution_count": 145,
   "metadata": {},
   "outputs": [
    {
     "name": "stdout",
     "output_type": "stream",
     "text": [
      "Another string\n",
      "20\n",
      "This is a string\n"
     ]
    }
   ],
   "source": [
    "# Looping through List\n",
    "\n",
    "# Method 1 : Using Indexes (Mainly for updating)\n",
    "\n",
    "for i in range(len(list1)):\n",
    "    print(list1[i])\n",
    "    #list1[i] = 12 # Something else"
   ]
  },
  {
   "cell_type": "code",
   "execution_count": 146,
   "metadata": {},
   "outputs": [
    {
     "name": "stdout",
     "output_type": "stream",
     "text": [
      "Another string\n",
      "20\n",
      "This is a string\n"
     ]
    }
   ],
   "source": [
    "# Looping through List\n",
    "# Method 2 : For each technique (Mainly for accessing)\n",
    "    \n",
    "for item in list1:\n",
    "    print(item)"
   ]
  },
  {
   "cell_type": "markdown",
   "metadata": {},
   "source": [
    "## S3.V13. Python Data Structure- Tuple"
   ]
  },
  {
   "cell_type": "code",
   "execution_count": 147,
   "metadata": {},
   "outputs": [
    {
     "name": "stdout",
     "output_type": "stream",
     "text": [
      "('This is a string', 14.5, 0.9, 500, 'Another string')\n",
      "14.5\n",
      "0.9\n",
      "500\n"
     ]
    }
   ],
   "source": [
    "# Same as List but immutable\n",
    "\n",
    "tuple1 = (12,)\n",
    "# Just 12 will make tuple1 variable an integer\n",
    "# when we put 12, then it becomes tuple\n",
    "\n",
    "tuple1 = ('This is a string',14.5,0.9,500,'Another string')\n",
    "tuple2 = ('Next tuple',14.5,0.9,500)\n",
    "\n",
    "# Printing elements of tuples\n",
    "\n",
    "print(tuple1)\n",
    "print(tuple1[1])\n",
    "print(tuple1[2])\n",
    "print(tuple1[3])"
   ]
  },
  {
   "cell_type": "code",
   "execution_count": 148,
   "metadata": {},
   "outputs": [
    {
     "name": "stdout",
     "output_type": "stream",
     "text": [
      "('This is a string', 14.5, 0.9, 500, 'Another string', 'Next tuple', 14.5, 0.9, 500)\n",
      "9\n"
     ]
    }
   ],
   "source": [
    "# Adding two tuples is like adding 2 lists\n",
    "\n",
    "tuple3 = tuple1 + tuple2\n",
    "print(tuple3)\n",
    "\n",
    "# Length of a tuple\n",
    "\n",
    "print(len(tuple3))"
   ]
  },
  {
   "cell_type": "code",
   "execution_count": 149,
   "metadata": {},
   "outputs": [
    {
     "name": "stdout",
     "output_type": "stream",
     "text": [
      "This is a string\n",
      "14.5\n",
      "0.9\n",
      "500\n",
      "Another string\n"
     ]
    }
   ],
   "source": [
    "# Looping through a tuple\n",
    "\n",
    "# Method 1\n",
    "for i in range(0,len(tuple1)):\n",
    "    print(tuple1[i])"
   ]
  },
  {
   "cell_type": "code",
   "execution_count": 150,
   "metadata": {},
   "outputs": [
    {
     "name": "stdout",
     "output_type": "stream",
     "text": [
      "This is a string\n",
      "14.5\n",
      "0.9\n",
      "500\n",
      "Another string\n"
     ]
    }
   ],
   "source": [
    "# Method 2\n",
    "for item in tuple1:\n",
    "    print(item)"
   ]
  },
  {
   "cell_type": "markdown",
   "metadata": {},
   "source": [
    "## S3.V14. Python Data Structure- Dictionaries"
   ]
  },
  {
   "cell_type": "code",
   "execution_count": 151,
   "metadata": {},
   "outputs": [
    {
     "name": "stdout",
     "output_type": "stream",
     "text": [
      "{'apple': 'Apple is a fruit', 'orange': 'Orange is a fruit', 'car': 'Cars are fast', 'python': 'Python is a snake'}\n",
      "Apple is a fruit\n",
      "Cars are fast\n",
      "Python is a snake\n"
     ]
    }
   ],
   "source": [
    "# Key - Value Pairs\n",
    "\n",
    "dict1 = {}\n",
    "\n",
    "# Adding elements to the dictinary\n",
    "dict1['apple'] = 'Apple is a fruit'\n",
    "dict1['orange'] = 'Orange is a fruit'\n",
    "dict1['car'] = 'Cars are fast'\n",
    "dict1['python'] = 'Python is a snake'\n",
    "\n",
    "# Printing dictionary elements\n",
    "\n",
    "print(dict1)\n",
    "\n",
    "# Print key to get its value\n",
    "print(dict1['apple'])\n",
    "print(dict1['car'])\n",
    "print(dict1['python'])"
   ]
  },
  {
   "cell_type": "code",
   "execution_count": 152,
   "metadata": {},
   "outputs": [
    {
     "name": "stdout",
     "output_type": "stream",
     "text": [
      "Apple is a fruit\n"
     ]
    }
   ],
   "source": [
    "print(dict1.get('apple'))\n",
    "# another way to get the value of the key"
   ]
  },
  {
   "cell_type": "code",
   "execution_count": 153,
   "metadata": {},
   "outputs": [
    {
     "name": "stdout",
     "output_type": "stream",
     "text": [
      "None\n",
      "Does not exist\n"
     ]
    }
   ],
   "source": [
    "print(dict1.get('jython'))\n",
    "# Output is none because 'jython' Key is NOT present in dict1 dictionary\n",
    "      \n",
    "# We can output a default value instead of none in case key is NOT present in the dictionary. \n",
    "# Thats the benefit of .get method    \n",
    "print(dict1.get('jython','Does not exist'))"
   ]
  },
  {
   "cell_type": "code",
   "execution_count": 154,
   "metadata": {},
   "outputs": [
    {
     "name": "stdout",
     "output_type": "stream",
     "text": [
      "4\n",
      "3\n"
     ]
    }
   ],
   "source": [
    "# Deleting elements\n",
    "\n",
    "print(len(dict1))\n",
    "del dict1['apple']\n",
    "\n",
    "# Length of a dictionary\n",
    "\n",
    "print(len(dict1))"
   ]
  },
  {
   "cell_type": "code",
   "execution_count": 155,
   "metadata": {},
   "outputs": [
    {
     "data": {
      "text/plain": [
       "{'orange': 'Orange is a fruit',\n",
       " 'car': 'Cars are fast',\n",
       " 'python': 'Python is a snake'}"
      ]
     },
     "execution_count": 155,
     "metadata": {},
     "output_type": "execute_result"
    }
   ],
   "source": [
    "dict1"
   ]
  },
  {
   "cell_type": "code",
   "execution_count": 156,
   "metadata": {},
   "outputs": [
    {
     "name": "stdout",
     "output_type": "stream",
     "text": [
      "['orange', 'car', 'python']\n",
      "['Orange is a fruit', 'Cars are fast', 'Python is a snake']\n"
     ]
    }
   ],
   "source": [
    "# List of keys and Values\n",
    "\n",
    "listOfKeys = list(dict1.keys())\n",
    "print (listOfKeys)\n",
    "\n",
    "\n",
    "listOfValues = list(dict1.values())\n",
    "print (listOfValues)"
   ]
  },
  {
   "cell_type": "code",
   "execution_count": 157,
   "metadata": {},
   "outputs": [
    {
     "name": "stdout",
     "output_type": "stream",
     "text": [
      "orange\n",
      "car\n",
      "python\n"
     ]
    }
   ],
   "source": [
    "# Looping through lists to get keys\n",
    "\n",
    "for key in dict1.keys():\n",
    "    print(key)"
   ]
  },
  {
   "cell_type": "code",
   "execution_count": 158,
   "metadata": {},
   "outputs": [
    {
     "name": "stdout",
     "output_type": "stream",
     "text": [
      "Orange is a fruit\n",
      "Cars are fast\n",
      "Python is a snake\n"
     ]
    }
   ],
   "source": [
    "# Looping through lists\n",
    "\n",
    "for key in dict1.keys():\n",
    "    print(dict1[key])"
   ]
  },
  {
   "cell_type": "code",
   "execution_count": 159,
   "metadata": {},
   "outputs": [
    {
     "name": "stdout",
     "output_type": "stream",
     "text": [
      "Orange is a fruit\n",
      "Cars are fast\n",
      "Python is a snake\n"
     ]
    }
   ],
   "source": [
    "# or\n",
    "for values in dict1.values():\n",
    "    print(values)"
   ]
  },
  {
   "cell_type": "markdown",
   "metadata": {},
   "source": [
    "## S3.V15. Console and File I/O in Python"
   ]
  },
  {
   "cell_type": "code",
   "execution_count": 160,
   "metadata": {},
   "outputs": [
    {
     "name": "stdout",
     "output_type": "stream",
     "text": [
      "Enter a number:8\n",
      "Enter a number:3\n",
      "11\n"
     ]
    }
   ],
   "source": [
    "# Console Input/Output\n",
    "inp = input('Enter a number:')\n",
    "number1 = int(inp) # we have to convert inp as int because whatever user types for input will be accepted as string\n",
    "\n",
    "inp = input('Enter a number:')\n",
    "number2 = int(inp)\n",
    "\n",
    "print(number1+number2)"
   ]
  },
  {
   "cell_type": "code",
   "execution_count": 161,
   "metadata": {},
   "outputs": [
    {
     "name": "stdout",
     "output_type": "stream",
     "text": [
      "Enter some text:Ducky is my name\n"
     ]
    }
   ],
   "source": [
    "# File Input/Output\n",
    "\n",
    "# Writing to file\n",
    "inp = input('Enter some text:')\n",
    "\n",
    "# creating and opening a new file named textfile.txt and second argument 'w' is the mode \n",
    "# w mode means the new file opened is in writable mode \n",
    "with open('textfile.txt', 'w') as f: # 'f' is reference to the file \n",
    "    f.write(inp)\n",
    "# Thus whatever is input from the user, will be written in the new file"
   ]
  },
  {
   "cell_type": "markdown",
   "metadata": {},
   "source": [
    "'Ducky is my name' will be written in the new file\n",
    "\n",
    "**Problem** Text file will contain the user input. But next the user inputs something else, it will be written in the file by replacing the first one.\n",
    "\n",
    "**Solution** Instead of writing `w` use append `a`"
   ]
  },
  {
   "cell_type": "code",
   "execution_count": 162,
   "metadata": {},
   "outputs": [
    {
     "name": "stdout",
     "output_type": "stream",
     "text": [
      "Enter some text: Elodie is bitch\n"
     ]
    }
   ],
   "source": [
    "# File Input/Output\n",
    "\n",
    "# Writing to file\n",
    "inp = input('Enter some text:')\n",
    "\n",
    "# 'a' means append\n",
    "with open('textfile.txt', 'a') as f: \n",
    "    f.write(inp)"
   ]
  },
  {
   "cell_type": "code",
   "execution_count": 163,
   "metadata": {},
   "outputs": [
    {
     "name": "stdout",
     "output_type": "stream",
     "text": [
      "Ducky is my name Elodie is bitch\n"
     ]
    }
   ],
   "source": [
    "with open('textfile.txt', 'r') as f: \n",
    "    print(f.read())"
   ]
  },
  {
   "cell_type": "markdown",
   "metadata": {},
   "source": [
    "## S3.V16. Introduction to Functions"
   ]
  },
  {
   "cell_type": "code",
   "execution_count": 164,
   "metadata": {},
   "outputs": [],
   "source": [
    "# write own length function\n",
    "\n",
    "def length(l):\n",
    "    count = 0\n",
    "    for i in l:\n",
    "        count += 1\n",
    "    return count"
   ]
  },
  {
   "cell_type": "code",
   "execution_count": 165,
   "metadata": {},
   "outputs": [
    {
     "data": {
      "text/plain": [
       "4"
      ]
     },
     "execution_count": 165,
     "metadata": {},
     "output_type": "execute_result"
    }
   ],
   "source": [
    "a = [2,5,8,3]\n",
    "length(a)"
   ]
  },
  {
   "cell_type": "markdown",
   "metadata": {},
   "source": [
    "## S3.V17. Introduction to Classes and Objects"
   ]
  },
  {
   "cell_type": "code",
   "execution_count": 166,
   "metadata": {},
   "outputs": [
    {
     "name": "stdout",
     "output_type": "stream",
     "text": [
      "Fish is swimming\n",
      "Fish is eating\n"
     ]
    }
   ],
   "source": [
    "# classes and objects\n",
    "\n",
    "# class is like human. # Anna, Mitra are objects (these objects are part of the class)\n",
    "\n",
    "class Fish: # Fish is class , inside which we can write functions \n",
    "    def swim(self):\n",
    "        print('Fish is swimming')\n",
    "    def eat(self):\n",
    "        print('Fish is eating')\n",
    "        \n",
    "\n",
    "# now we can create object of Fish() class \n",
    "fish = Fish()\n",
    "fish.swim() # now call different methods under that class\n",
    "fish.eat()"
   ]
  },
  {
   "cell_type": "code",
   "execution_count": 167,
   "metadata": {
    "code_folding": []
   },
   "outputs": [
    {
     "name": "stdout",
     "output_type": "stream",
     "text": [
      "Counter Strike has started\n",
      "Counter Strike has stopped\n"
     ]
    }
   ],
   "source": [
    "# Override constructor\n",
    "\n",
    "class Game:\n",
    "    def __init__(self,name):\n",
    "        self.name = name # name of the game which is counterstrike here\n",
    "    def start(self):\n",
    "        print(self.name, 'has started')\n",
    "    def stop(self):\n",
    "        print(self.name, 'has stopped')\n",
    "        \n",
    "game = Game('Counter Strike') # create an object\n",
    "game.start()\n",
    "game.stop()"
   ]
  },
  {
   "cell_type": "markdown",
   "metadata": {},
   "source": [
    "## S3.V18. List comprehension"
   ]
  },
  {
   "cell_type": "code",
   "execution_count": 168,
   "metadata": {},
   "outputs": [],
   "source": [
    "# List comprehension\n",
    "numbers = [1,2,3,4,5,6,7,8,9,10]"
   ]
  },
  {
   "cell_type": "code",
   "execution_count": 169,
   "metadata": {},
   "outputs": [
    {
     "data": {
      "text/plain": [
       "[1, 2, 3, 4, 5, 6, 7, 8, 9, 10]"
      ]
     },
     "execution_count": 169,
     "metadata": {},
     "output_type": "execute_result"
    }
   ],
   "source": [
    "# To make copy of same list\n",
    "\n",
    "new_numbers = []\n",
    "for number in numbers:\n",
    "    new_numbers.append(number)\n",
    "    \n",
    "new_numbers"
   ]
  },
  {
   "cell_type": "code",
   "execution_count": 170,
   "metadata": {},
   "outputs": [
    {
     "data": {
      "text/plain": [
       "[1, 2, 3, 4, 5, 6, 7, 8, 9, 10]"
      ]
     },
     "execution_count": 170,
     "metadata": {},
     "output_type": "execute_result"
    }
   ],
   "source": [
    "# same with list comprehension\n",
    "\n",
    "new = [n for n in numbers]\n",
    "new"
   ]
  },
  {
   "cell_type": "code",
   "execution_count": 171,
   "metadata": {},
   "outputs": [
    {
     "data": {
      "text/plain": [
       "[1, 2, 3, 4, 5]"
      ]
     },
     "execution_count": 171,
     "metadata": {},
     "output_type": "execute_result"
    }
   ],
   "source": [
    "# add complexity\n",
    "new2 = [n for n in numbers if n<=5]\n",
    "new2"
   ]
  },
  {
   "cell_type": "code",
   "execution_count": null,
   "metadata": {},
   "outputs": [],
   "source": []
  },
  {
   "cell_type": "code",
   "execution_count": 172,
   "metadata": {},
   "outputs": [
    {
     "data": {
      "text/plain": [
       "[1, 4, 9, 16, 25, 36, 49, 64, 81, 100]"
      ]
     },
     "execution_count": 172,
     "metadata": {},
     "output_type": "execute_result"
    }
   ],
   "source": [
    "# Generator comprehension \n",
    "# do not use square brackett here\n",
    "\n",
    "square_gen = (number**2 for number in numbers)\n",
    "list(square_gen)"
   ]
  },
  {
   "cell_type": "code",
   "execution_count": null,
   "metadata": {},
   "outputs": [],
   "source": []
  },
  {
   "cell_type": "code",
   "execution_count": 173,
   "metadata": {},
   "outputs": [
    {
     "data": {
      "text/plain": [
       "{'apple': 1, 'orange': 4, 'bananna': 10}"
      ]
     },
     "execution_count": 173,
     "metadata": {},
     "output_type": "execute_result"
    }
   ],
   "source": [
    "# Dictionary comprehension\n",
    "mydict = {'apple':1, 'orange':4, 'bananna':10}\n",
    "newdict = {key: mydict[key] for key in mydict.keys()} # will copy the dictionary basically\n",
    "newdict"
   ]
  },
  {
   "cell_type": "code",
   "execution_count": 174,
   "metadata": {},
   "outputs": [
    {
     "data": {
      "text/plain": [
       "{'bananna': 10}"
      ]
     },
     "execution_count": 174,
     "metadata": {},
     "output_type": "execute_result"
    }
   ],
   "source": [
    "# dictionary with fruits over 5\n",
    "\n",
    "mydict2 = {key:mydict[key] for key in mydict.keys() if mydict[key]>5}\n",
    "mydict2"
   ]
  },
  {
   "cell_type": "code",
   "execution_count": null,
   "metadata": {},
   "outputs": [],
   "source": []
  },
  {
   "cell_type": "code",
   "execution_count": 176,
   "metadata": {},
   "outputs": [
    {
     "data": {
      "text/plain": [
       "'I love avengers'"
      ]
     },
     "execution_count": 176,
     "metadata": {},
     "output_type": "execute_result"
    }
   ],
   "source": [
    "# joining a list of strings could be done by looping through and appending one by one\n",
    "# easier method: use join\n",
    "words = ['I', 'love', 'avengers']\n",
    "sentence = ' '.join(words)\n",
    "sentence"
   ]
  }
 ],
 "metadata": {
  "kernelspec": {
   "display_name": "Python 3",
   "language": "python",
   "name": "python3"
  },
  "language_info": {
   "codemirror_mode": {
    "name": "ipython",
    "version": 3
   },
   "file_extension": ".py",
   "mimetype": "text/x-python",
   "name": "python",
   "nbconvert_exporter": "python",
   "pygments_lexer": "ipython3",
   "version": "3.6.5"
  },
  "toc": {
   "base_numbering": 1,
   "nav_menu": {},
   "number_sections": false,
   "sideBar": false,
   "skip_h1_title": false,
   "title_cell": "Table of Contents",
   "title_sidebar": "Contents",
   "toc_cell": false,
   "toc_position": {},
   "toc_section_display": false,
   "toc_window_display": false
  },
  "varInspector": {
   "cols": {
    "lenName": 16,
    "lenType": 16,
    "lenVar": 40
   },
   "kernels_config": {
    "python": {
     "delete_cmd_postfix": "",
     "delete_cmd_prefix": "del ",
     "library": "var_list.py",
     "varRefreshCmd": "print(var_dic_list())"
    },
    "r": {
     "delete_cmd_postfix": ") ",
     "delete_cmd_prefix": "rm(",
     "library": "var_list.r",
     "varRefreshCmd": "cat(var_dic_list()) "
    }
   },
   "types_to_exclude": [
    "module",
    "function",
    "builtin_function_or_method",
    "instance",
    "_Feature"
   ],
   "window_display": false
  }
 },
 "nbformat": 4,
 "nbformat_minor": 2
}
